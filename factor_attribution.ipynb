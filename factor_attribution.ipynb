{
 "cells": [
  {
   "cell_type": "code",
   "execution_count": 1,
   "metadata": {},
   "outputs": [],
   "source": [
    "import pandas as pd\n",
    "import numpy as np\n",
    "from scipy.stats import zscore\n",
    "import matplotlib.pyplot as plt\n",
    "import matplotlib.style as style\n",
    "style.use('seaborn-poster')\n",
    "style.use('ggplot')\n",
    "\n",
    "from factor_attribution import FactorAttribution"
   ]
  },
  {
   "cell_type": "code",
   "execution_count": 2,
   "metadata": {},
   "outputs": [
    {
     "name": "stderr",
     "output_type": "stream",
     "text": [
      "  5%|▍         | 48/965 [00:00<00:15, 60.57it/s]"
     ]
    },
    {
     "name": "stdout",
     "output_type": "stream",
     "text": [
      "adjusting data for ticker: FOX and this time frame: year_ago\n",
      "adjusting data for ticker: FOX and this time frame: year_ago\n"
     ]
    },
    {
     "name": "stderr",
     "output_type": "stream",
     "text": [
      " 13%|█▎        | 124/965 [00:02<00:13, 61.35it/s]"
     ]
    },
    {
     "name": "stdout",
     "output_type": "stream",
     "text": [
      "adjusting data for ticker: BMS and this time frame: prev_date\n",
      "adjusting data for ticker: BMS and this time frame: prev_date\n",
      "adjusting data for ticker: BMS and this time frame: analysis_date\n",
      "adjusting data for ticker: BMS and this time frame: analysis_date\n",
      "adjusting data for ticker: BMS and this time frame: date\n",
      "adjusting data for ticker: BMS and this time frame: date\n",
      "adjusting data for ticker: BMS and this time frame: analysis_date\n",
      "adjusting data for ticker: BMS and this time frame: analysis_date\n"
     ]
    },
    {
     "name": "stderr",
     "output_type": "stream",
     "text": [
      " 24%|██▎       | 228/965 [00:03<00:12, 59.28it/s]"
     ]
    },
    {
     "name": "stdout",
     "output_type": "stream",
     "text": [
      "adjusting data for ticker: FTDR and this time frame: year_ago\n",
      "adjusting data for ticker: FTDR and this time frame: year_ago\n"
     ]
    },
    {
     "name": "stderr",
     "output_type": "stream",
     "text": [
      " 40%|████      | 390/965 [00:06<00:09, 61.99it/s]"
     ]
    },
    {
     "name": "stdout",
     "output_type": "stream",
     "text": [
      "adjusting data for ticker: ESTC and this time frame: year_ago\n",
      "adjusting data for ticker: ESTC and this time frame: year_ago\n",
      "adjusting data for ticker: REZI and this time frame: year_ago\n",
      "adjusting data for ticker: REZI and this time frame: year_ago\n"
     ]
    },
    {
     "name": "stderr",
     "output_type": "stream",
     "text": [
      " 53%|█████▎    | 512/965 [00:08<00:07, 64.51it/s]"
     ]
    },
    {
     "name": "stdout",
     "output_type": "stream",
     "text": [
      "adjusting data for ticker: ACA and this time frame: year_ago\n",
      "adjusting data for ticker: ACA and this time frame: year_ago\n"
     ]
    },
    {
     "name": "stderr",
     "output_type": "stream",
     "text": [
      " 55%|█████▌    | 533/965 [00:08<00:06, 63.41it/s]"
     ]
    },
    {
     "name": "stdout",
     "output_type": "stream",
     "text": [
      "adjusting data for ticker: KTB and this time frame: year_ago\n",
      "adjusting data for ticker: KTB and this time frame: year_ago\n"
     ]
    },
    {
     "name": "stderr",
     "output_type": "stream",
     "text": [
      " 57%|█████▋    | 547/965 [00:09<00:06, 65.49it/s]"
     ]
    },
    {
     "name": "stdout",
     "output_type": "stream",
     "text": [
      "adjusting data for ticker: GTX and this time frame: year_ago\n",
      "adjusting data for ticker: GTX and this time frame: year_ago\n"
     ]
    },
    {
     "name": "stderr",
     "output_type": "stream",
     "text": [
      " 64%|██████▍   | 619/965 [00:10<00:05, 60.43it/s]"
     ]
    },
    {
     "name": "stdout",
     "output_type": "stream",
     "text": [
      "adjusting data for ticker: ELAN and this time frame: year_ago\n",
      "adjusting data for ticker: ELAN and this time frame: year_ago\n"
     ]
    },
    {
     "name": "stderr",
     "output_type": "stream",
     "text": [
      " 66%|██████▋   | 640/965 [00:10<00:05, 60.23it/s]"
     ]
    },
    {
     "name": "stdout",
     "output_type": "stream",
     "text": [
      "adjusting data for ticker: MRNA and this time frame: year_ago\n",
      "adjusting data for ticker: MRNA and this time frame: year_ago\n"
     ]
    },
    {
     "name": "stderr",
     "output_type": "stream",
     "text": [
      " 69%|██████▊   | 663/965 [00:10<00:04, 64.98it/s]"
     ]
    },
    {
     "name": "stdout",
     "output_type": "stream",
     "text": [
      "adjusting data for ticker: BPR and this time frame: year_ago\n",
      "adjusting data for ticker: BPR and this time frame: year_ago\n"
     ]
    },
    {
     "name": "stderr",
     "output_type": "stream",
     "text": [
      " 72%|███████▏  | 692/965 [00:11<00:04, 64.72it/s]"
     ]
    },
    {
     "name": "stdout",
     "output_type": "stream",
     "text": [
      "adjusting data for ticker: LGF.B and this time frame: month_ago\n",
      "adjusting data for ticker: LGF.B and this time frame: month_ago\n",
      "adjusting data for ticker: LGF.B and this time frame: year_ago\n",
      "adjusting data for ticker: LGF.B and this time frame: year_ago\n",
      "adjusting data for ticker: LGF.B and this time frame: prev_date\n",
      "adjusting data for ticker: LGF.B and this time frame: prev_date\n",
      "adjusting data for ticker: LGF.B and this time frame: analysis_date\n",
      "adjusting data for ticker: LGF.B and this time frame: analysis_date\n",
      "adjusting data for ticker: LGF.B and this time frame: date\n",
      "adjusting data for ticker: LGF.B and this time frame: date\n",
      "adjusting data for ticker: LGF.B and this time frame: analysis_date\n",
      "adjusting data for ticker: LGF.B and this time frame: analysis_date\n",
      "adjusting data for ticker: ETRN and this time frame: year_ago\n",
      "adjusting data for ticker: ETRN and this time frame: year_ago\n",
      "adjusting data for ticker: FOXA and this time frame: year_ago\n",
      "adjusting data for ticker: FOXA and this time frame: year_ago\n"
     ]
    },
    {
     "name": "stderr",
     "output_type": "stream",
     "text": [
      " 80%|████████  | 776/965 [00:13<00:05, 36.92it/s]"
     ]
    },
    {
     "name": "stdout",
     "output_type": "stream",
     "text": [
      "adjusting data for ticker: CVET and this time frame: year_ago\n",
      "adjusting data for ticker: CVET and this time frame: year_ago\n"
     ]
    },
    {
     "name": "stderr",
     "output_type": "stream",
     "text": [
      " 93%|█████████▎| 898/965 [00:15<00:01, 58.82it/s]"
     ]
    },
    {
     "name": "stdout",
     "output_type": "stream",
     "text": [
      "adjusting data for ticker: SWI and this time frame: year_ago\n",
      "adjusting data for ticker: SWI and this time frame: year_ago\n"
     ]
    },
    {
     "name": "stderr",
     "output_type": "stream",
     "text": [
      " 98%|█████████▊| 945/965 [00:16<00:00, 62.89it/s]"
     ]
    },
    {
     "name": "stdout",
     "output_type": "stream",
     "text": [
      "adjusting data for ticker: DOW and this time frame: year_ago\n",
      "adjusting data for ticker: DOW and this time frame: year_ago\n"
     ]
    },
    {
     "name": "stderr",
     "output_type": "stream",
     "text": [
      "100%|██████████| 965/965 [00:17<00:00, 53.49it/s]"
     ]
    },
    {
     "name": "stdout",
     "output_type": "stream",
     "text": [
      "           mkt_cap  cur_price  prev_price      beta   book_value  \\\n",
      "CSCO  244986183680      57.23       57.71  1.028849  36804000000   \n",
      "SITC    2489729280      13.79       13.58  0.870377   1524945000   \n",
      "UAL    24435755008      95.11       94.93  1.278593  10320000000   \n",
      "TROW   26785523712     113.27      110.53  1.029243   6311000000   \n",
      "ISRG   62586986496     543.04      537.79  1.289684   7265300000   \n",
      "\n",
      "                  sector     eps   month_ago    year_ago   prev_date  \\\n",
      "CSCO          Technology   2.882   56.821407   42.144276   57.709999   \n",
      "SITC         Real Estate   0.922   13.180000   13.610000   13.580000   \n",
      "UAL          Industrials   9.838   86.550003   81.830002   94.930000   \n",
      "TROW  Financial Services   7.586  107.059998  115.209610  110.529999   \n",
      "ISRG          Healthcare  10.129  525.799988  520.799988  537.789978   \n",
      "\n",
      "      analysis_date  trade_date       today      volume  \n",
      "CSCO      57.230000   56.619999   56.529999  18177000.0  \n",
      "SITC      13.790000   13.640000   13.640000   1757121.0  \n",
      "UAL       95.110001   93.930000   93.360001   2344400.0  \n",
      "TROW     113.269997  113.919998  115.199997   1762000.0  \n",
      "ISRG     543.039978  531.690002  527.630005    634700.0  \n"
     ]
    },
    {
     "name": "stderr",
     "output_type": "stream",
     "text": [
      "\n"
     ]
    }
   ],
   "source": [
    "fa = FactorAttribution(date_str='2019-07-26')\n",
    "fa.run_attribution()"
   ]
  },
  {
   "cell_type": "code",
   "execution_count": 3,
   "metadata": {},
   "outputs": [
    {
     "name": "stdout",
     "output_type": "stream",
     "text": [
      "mkt_cap          244986183680\n",
      "cur_price               57.23\n",
      "prev_price              57.71\n",
      "beta                  1.02885\n",
      "book_value        36804000000\n",
      "sector             Technology\n",
      "eps                     2.882\n",
      "month_ago             56.8214\n",
      "year_ago              42.1443\n",
      "prev_date               57.71\n",
      "analysis_date           57.23\n",
      "trade_date              56.62\n",
      "today                   56.53\n",
      "volume             1.8177e+07\n",
      "Name: CSCO, dtype: object\n",
      "{'date': datetime.datetime(2019, 7, 26, 0, 0), 'date_str': '2019-07-26', 'prev_date': Timestamp('2019-07-23 00:00:00'), 'prev_date_str': '2019-07-23', 'analysis_date': Timestamp('2019-07-24 00:00:00'), 'analysis_date_str': '2019-07-24', 'trade_date': Timestamp('2019-07-25 00:00:00'), 'trade_date_str': '2019-07-25', 'year_ago': Timestamp('2018-08-06 00:00:00'), 'year_ago_str': '2018-08-06', 'month_ago': Timestamp('2019-06-24 00:00:00'), 'month_ago_str': '2019-06-24'}\n"
     ]
    },
    {
     "data": {
      "text/html": [
       "<div>\n",
       "<style scoped>\n",
       "    .dataframe tbody tr th:only-of-type {\n",
       "        vertical-align: middle;\n",
       "    }\n",
       "\n",
       "    .dataframe tbody tr th {\n",
       "        vertical-align: top;\n",
       "    }\n",
       "\n",
       "    .dataframe thead th {\n",
       "        text-align: right;\n",
       "    }\n",
       "</style>\n",
       "<table border=\"1\" class=\"dataframe\">\n",
       "  <thead>\n",
       "    <tr style=\"text-align: right;\">\n",
       "      <th></th>\n",
       "      <th>mkt_cap</th>\n",
       "      <th>cur_price</th>\n",
       "      <th>prev_price</th>\n",
       "      <th>beta</th>\n",
       "      <th>book_value</th>\n",
       "      <th>sector</th>\n",
       "      <th>eps</th>\n",
       "      <th>month_ago</th>\n",
       "      <th>year_ago</th>\n",
       "      <th>prev_date</th>\n",
       "      <th>analysis_date</th>\n",
       "      <th>trade_date</th>\n",
       "      <th>today</th>\n",
       "      <th>volume</th>\n",
       "    </tr>\n",
       "  </thead>\n",
       "  <tbody>\n",
       "    <tr>\n",
       "      <th>CSCO</th>\n",
       "      <td>244986183680</td>\n",
       "      <td>57.23</td>\n",
       "      <td>57.71</td>\n",
       "      <td>1.028849</td>\n",
       "      <td>36804000000</td>\n",
       "      <td>Technology</td>\n",
       "      <td>2.882</td>\n",
       "      <td>56.821407</td>\n",
       "      <td>42.144276</td>\n",
       "      <td>57.709999</td>\n",
       "      <td>57.230000</td>\n",
       "      <td>56.619999</td>\n",
       "      <td>56.529999</td>\n",
       "      <td>18177000.0</td>\n",
       "    </tr>\n",
       "    <tr>\n",
       "      <th>SITC</th>\n",
       "      <td>2489729280</td>\n",
       "      <td>13.79</td>\n",
       "      <td>13.58</td>\n",
       "      <td>0.870377</td>\n",
       "      <td>1524945000</td>\n",
       "      <td>Real Estate</td>\n",
       "      <td>0.922</td>\n",
       "      <td>13.180000</td>\n",
       "      <td>13.610000</td>\n",
       "      <td>13.580000</td>\n",
       "      <td>13.790000</td>\n",
       "      <td>13.640000</td>\n",
       "      <td>13.640000</td>\n",
       "      <td>1757121.0</td>\n",
       "    </tr>\n",
       "    <tr>\n",
       "      <th>UAL</th>\n",
       "      <td>24435755008</td>\n",
       "      <td>95.11</td>\n",
       "      <td>94.93</td>\n",
       "      <td>1.278593</td>\n",
       "      <td>10320000000</td>\n",
       "      <td>Industrials</td>\n",
       "      <td>9.838</td>\n",
       "      <td>86.550003</td>\n",
       "      <td>81.830002</td>\n",
       "      <td>94.930000</td>\n",
       "      <td>95.110001</td>\n",
       "      <td>93.930000</td>\n",
       "      <td>93.360001</td>\n",
       "      <td>2344400.0</td>\n",
       "    </tr>\n",
       "    <tr>\n",
       "      <th>TROW</th>\n",
       "      <td>26785523712</td>\n",
       "      <td>113.27</td>\n",
       "      <td>110.53</td>\n",
       "      <td>1.029243</td>\n",
       "      <td>6311000000</td>\n",
       "      <td>Financial Services</td>\n",
       "      <td>7.586</td>\n",
       "      <td>107.059998</td>\n",
       "      <td>115.209610</td>\n",
       "      <td>110.529999</td>\n",
       "      <td>113.269997</td>\n",
       "      <td>113.919998</td>\n",
       "      <td>115.199997</td>\n",
       "      <td>1762000.0</td>\n",
       "    </tr>\n",
       "    <tr>\n",
       "      <th>ISRG</th>\n",
       "      <td>62586986496</td>\n",
       "      <td>543.04</td>\n",
       "      <td>537.79</td>\n",
       "      <td>1.289684</td>\n",
       "      <td>7265300000</td>\n",
       "      <td>Healthcare</td>\n",
       "      <td>10.129</td>\n",
       "      <td>525.799988</td>\n",
       "      <td>520.799988</td>\n",
       "      <td>537.789978</td>\n",
       "      <td>543.039978</td>\n",
       "      <td>531.690002</td>\n",
       "      <td>527.630005</td>\n",
       "      <td>634700.0</td>\n",
       "    </tr>\n",
       "  </tbody>\n",
       "</table>\n",
       "</div>"
      ],
      "text/plain": [
       "           mkt_cap  cur_price  prev_price      beta   book_value  \\\n",
       "CSCO  244986183680      57.23       57.71  1.028849  36804000000   \n",
       "SITC    2489729280      13.79       13.58  0.870377   1524945000   \n",
       "UAL    24435755008      95.11       94.93  1.278593  10320000000   \n",
       "TROW   26785523712     113.27      110.53  1.029243   6311000000   \n",
       "ISRG   62586986496     543.04      537.79  1.289684   7265300000   \n",
       "\n",
       "                  sector     eps   month_ago    year_ago   prev_date  \\\n",
       "CSCO          Technology   2.882   56.821407   42.144276   57.709999   \n",
       "SITC         Real Estate   0.922   13.180000   13.610000   13.580000   \n",
       "UAL          Industrials   9.838   86.550003   81.830002   94.930000   \n",
       "TROW  Financial Services   7.586  107.059998  115.209610  110.529999   \n",
       "ISRG          Healthcare  10.129  525.799988  520.799988  537.789978   \n",
       "\n",
       "      analysis_date  trade_date       today      volume  \n",
       "CSCO      57.230000   56.619999   56.529999  18177000.0  \n",
       "SITC      13.790000   13.640000   13.640000   1757121.0  \n",
       "UAL       95.110001   93.930000   93.360001   2344400.0  \n",
       "TROW     113.269997  113.919998  115.199997   1762000.0  \n",
       "ISRG     543.039978  531.690002  527.630005    634700.0  "
      ]
     },
     "execution_count": 3,
     "metadata": {},
     "output_type": "execute_result"
    }
   ],
   "source": [
    "print(fa.info.loc['CSCO',:])\n",
    "print(fa.date_sets['CSCO'])\n",
    "fa.info.head()"
   ]
  },
  {
   "cell_type": "code",
   "execution_count": 4,
   "metadata": {},
   "outputs": [],
   "source": [
    "def compute_attribution_columns(df):\n",
    "    df['value'] = df['book_value'] / df['mkt_cap']\n",
    "    df['momentum'] = np.log(df['month_ago'] / df['year_ago'])\n",
    "    df['reversion'] = np.log(df['analysis_date']/df['month_ago'])\n",
    "    df['returns'] = np.log(df['today'] / df['trade_date'])\n",
    "    df['size'] = df['mkt_cap']\n",
    "    df['profitability'] = df['eps']\n",
    "    new_df = df[['returns', 'beta', 'momentum', 'size', 'value', 'reversion', 'profitability', 'volume']].copy()\n",
    "    return new_df"
   ]
  },
  {
   "cell_type": "code",
   "execution_count": 5,
   "metadata": {},
   "outputs": [
    {
     "name": "stdout",
     "output_type": "stream",
     "text": [
      "(500, 8)\n"
     ]
    }
   ],
   "source": [
    "df = compute_attribution_columns(fa.info)\n",
    "df.dropna(inplace=True)\n",
    "df = df.nlargest(500, 'volume')\n",
    "print(df.shape)"
   ]
  },
  {
   "cell_type": "code",
   "execution_count": 6,
   "metadata": {},
   "outputs": [],
   "source": [
    "from sklearn.linear_model import LinearRegression\n",
    "from sklearn.metrics import r2_score"
   ]
  },
  {
   "cell_type": "code",
   "execution_count": 7,
   "metadata": {},
   "outputs": [
    {
     "name": "stdout",
     "output_type": "stream",
     "text": [
      "[-0.00260067  0.00076734  0.00284694  0.00199335  0.00120269 -0.00184067]\n",
      "r-squared:  0.1000686682909776\n",
      "             y      pred\n",
      "AR   -0.083575 -0.032692\n",
      "RLGY -0.007380 -0.027240\n",
      "SM   -0.029885 -0.024577\n",
      "WLL  -0.021053 -0.019453\n",
      "CDEV -0.020870 -0.018692\n",
      "XOG  -0.082604 -0.017491\n",
      "CNX  -0.039280 -0.012770\n",
      "CC    0.023359 -0.011068\n",
      "RES  -0.027305 -0.009582\n",
      "MUR  -0.005376 -0.008057\n",
      "              y      pred\n",
      "HSY    0.021540  0.014862\n",
      "MCD    0.005302  0.015141\n",
      "KLAC  -0.001791  0.015964\n",
      "LMT   -0.002325  0.016050\n",
      "MSFT   0.008170  0.016188\n",
      "NOC   -0.006221  0.016951\n",
      "AAPL   0.003472  0.018235\n",
      "AMZN  -0.015712  0.022794\n",
      "GOOGL  0.091852  0.028464\n",
      "GOOG   0.099380  0.028598\n"
     ]
    }
   ],
   "source": [
    "df = compute_attribution_columns(fa.info)\n",
    "df.dropna(inplace=True)\n",
    "df = df.nlargest(500, 'volume')\n",
    "lm = LinearRegression()\n",
    "df[['beta', 'momentum', 'size', 'value', 'reversion', 'profitability']] = df[['beta', 'momentum', 'size', \n",
    "                                                             'value', 'reversion', 'profitability']].apply(zscore)\n",
    "\n",
    "X = df[['value', 'size', 'reversion', 'profitability', 'momentum', 'beta']]\n",
    "y = df['returns']\n",
    "lm.fit(X,y)\n",
    "print(lm.coef_)\n",
    "pred = lm.predict(X)\n",
    "print('r-squared: ', r2_score(y, pred))\n",
    "results = pd.DataFrame(data={'y':y, 'pred': pred}).sort_values(by='pred')\n",
    "print(results.head(10))\n",
    "print(results.tail(10))"
   ]
  },
  {
   "cell_type": "code",
   "execution_count": 8,
   "metadata": {},
   "outputs": [
    {
     "name": "stdout",
     "output_type": "stream",
     "text": [
      "{'date': datetime.datetime(2019, 7, 26, 0, 0), 'date_str': '2019-07-26', 'prev_date': Timestamp('2019-07-23 00:00:00'), 'prev_date_str': '2019-07-23', 'analysis_date': Timestamp('2019-07-24 00:00:00'), 'analysis_date_str': '2019-07-24', 'trade_date': Timestamp('2019-07-25 00:00:00'), 'trade_date_str': '2019-07-25', 'year_ago': Timestamp('2018-08-06 00:00:00'), 'year_ago_str': '2018-08-06', 'month_ago': Timestamp('2019-06-24 00:00:00'), 'month_ago_str': '2019-06-24'}\n"
     ]
    },
    {
     "data": {
      "text/plain": [
       "mkt_cap                11344606208\n",
       "cur_price                   154.44\n",
       "prev_price                  153.98\n",
       "beta                       1.52249\n",
       "book_value              7570801000\n",
       "sector           Consumer Cyclical\n",
       "eps                        49.8953\n",
       "month_ago                   145.93\n",
       "year_ago                    187.03\n",
       "prev_date                   153.98\n",
       "analysis_date               154.44\n",
       "trade_date                  156.36\n",
       "today                       128.84\n",
       "volume                      662300\n",
       "value                     0.667348\n",
       "momentum                 -0.248142\n",
       "reversion                0.0566787\n",
       "returns                   -0.19359\n",
       "size                   11344606208\n",
       "profitability              49.8953\n",
       "Name: MHK, dtype: object"
      ]
     },
     "execution_count": 8,
     "metadata": {},
     "output_type": "execute_result"
    }
   ],
   "source": [
    "print(fa.date_sets['MHK'])\n",
    "fa.info.loc['MHK',:]"
   ]
  },
  {
   "cell_type": "code",
   "execution_count": 9,
   "metadata": {},
   "outputs": [
    {
     "data": {
      "text/html": [
       "<table class=\"simpletable\">\n",
       "<caption>OLS Regression Results</caption>\n",
       "<tr>\n",
       "  <th>Dep. Variable:</th>         <td>returns</td>     <th>  R-squared (uncentered):</th>      <td>   0.092</td>\n",
       "</tr>\n",
       "<tr>\n",
       "  <th>Model:</th>                   <td>OLS</td>       <th>  Adj. R-squared (uncentered):</th> <td>   0.081</td>\n",
       "</tr>\n",
       "<tr>\n",
       "  <th>Method:</th>             <td>Least Squares</td>  <th>  F-statistic:       </th>          <td>   8.322</td>\n",
       "</tr>\n",
       "<tr>\n",
       "  <th>Date:</th>             <td>Sat, 27 Jul 2019</td> <th>  Prob (F-statistic):</th>          <td>1.32e-08</td>\n",
       "</tr>\n",
       "<tr>\n",
       "  <th>Time:</th>                 <td>18:46:29</td>     <th>  Log-Likelihood:    </th>          <td>  1297.1</td>\n",
       "</tr>\n",
       "<tr>\n",
       "  <th>No. Observations:</th>      <td>   500</td>      <th>  AIC:               </th>          <td>  -2582.</td>\n",
       "</tr>\n",
       "<tr>\n",
       "  <th>Df Residuals:</th>          <td>   494</td>      <th>  BIC:               </th>          <td>  -2557.</td>\n",
       "</tr>\n",
       "<tr>\n",
       "  <th>Df Model:</th>              <td>     6</td>      <th>                     </th>              <td> </td>   \n",
       "</tr>\n",
       "<tr>\n",
       "  <th>Covariance Type:</th>      <td>nonrobust</td>    <th>                     </th>              <td> </td>   \n",
       "</tr>\n",
       "</table>\n",
       "<table class=\"simpletable\">\n",
       "<tr>\n",
       "        <td></td>           <th>coef</th>     <th>std err</th>      <th>t</th>      <th>P>|t|</th>  <th>[0.025</th>    <th>0.975]</th>  \n",
       "</tr>\n",
       "<tr>\n",
       "  <th>value</th>         <td>   -0.0026</td> <td>    0.001</td> <td>   -2.739</td> <td> 0.006</td> <td>   -0.004</td> <td>   -0.001</td>\n",
       "</tr>\n",
       "<tr>\n",
       "  <th>size</th>          <td>    0.0008</td> <td>    0.001</td> <td>    0.811</td> <td> 0.418</td> <td>   -0.001</td> <td>    0.003</td>\n",
       "</tr>\n",
       "<tr>\n",
       "  <th>reversion</th>     <td>    0.0028</td> <td>    0.001</td> <td>    3.315</td> <td> 0.001</td> <td>    0.001</td> <td>    0.005</td>\n",
       "</tr>\n",
       "<tr>\n",
       "  <th>profitability</th> <td>    0.0020</td> <td>    0.001</td> <td>    2.121</td> <td> 0.034</td> <td>    0.000</td> <td>    0.004</td>\n",
       "</tr>\n",
       "<tr>\n",
       "  <th>momentum</th>      <td>    0.0012</td> <td>    0.001</td> <td>    1.145</td> <td> 0.253</td> <td>   -0.001</td> <td>    0.003</td>\n",
       "</tr>\n",
       "<tr>\n",
       "  <th>beta</th>          <td>   -0.0018</td> <td>    0.001</td> <td>   -1.900</td> <td> 0.058</td> <td>   -0.004</td> <td> 6.25e-05</td>\n",
       "</tr>\n",
       "</table>\n",
       "<table class=\"simpletable\">\n",
       "<tr>\n",
       "  <th>Omnibus:</th>       <td>111.879</td> <th>  Durbin-Watson:     </th> <td>   1.856</td>\n",
       "</tr>\n",
       "<tr>\n",
       "  <th>Prob(Omnibus):</th> <td> 0.000</td>  <th>  Jarque-Bera (JB):  </th> <td>3189.476</td>\n",
       "</tr>\n",
       "<tr>\n",
       "  <th>Skew:</th>          <td>-0.046</td>  <th>  Prob(JB):          </th> <td>    0.00</td>\n",
       "</tr>\n",
       "<tr>\n",
       "  <th>Kurtosis:</th>      <td>15.373</td>  <th>  Cond. No.          </th> <td>    2.23</td>\n",
       "</tr>\n",
       "</table><br/><br/>Warnings:<br/>[1] Standard Errors assume that the covariance matrix of the errors is correctly specified."
      ],
      "text/plain": [
       "<class 'statsmodels.iolib.summary.Summary'>\n",
       "\"\"\"\n",
       "                                 OLS Regression Results                                \n",
       "=======================================================================================\n",
       "Dep. Variable:                returns   R-squared (uncentered):                   0.092\n",
       "Model:                            OLS   Adj. R-squared (uncentered):              0.081\n",
       "Method:                 Least Squares   F-statistic:                              8.322\n",
       "Date:                Sat, 27 Jul 2019   Prob (F-statistic):                    1.32e-08\n",
       "Time:                        18:46:29   Log-Likelihood:                          1297.1\n",
       "No. Observations:                 500   AIC:                                     -2582.\n",
       "Df Residuals:                     494   BIC:                                     -2557.\n",
       "Df Model:                           6                                                  \n",
       "Covariance Type:            nonrobust                                                  \n",
       "=================================================================================\n",
       "                    coef    std err          t      P>|t|      [0.025      0.975]\n",
       "---------------------------------------------------------------------------------\n",
       "value            -0.0026      0.001     -2.739      0.006      -0.004      -0.001\n",
       "size              0.0008      0.001      0.811      0.418      -0.001       0.003\n",
       "reversion         0.0028      0.001      3.315      0.001       0.001       0.005\n",
       "profitability     0.0020      0.001      2.121      0.034       0.000       0.004\n",
       "momentum          0.0012      0.001      1.145      0.253      -0.001       0.003\n",
       "beta             -0.0018      0.001     -1.900      0.058      -0.004    6.25e-05\n",
       "==============================================================================\n",
       "Omnibus:                      111.879   Durbin-Watson:                   1.856\n",
       "Prob(Omnibus):                  0.000   Jarque-Bera (JB):             3189.476\n",
       "Skew:                          -0.046   Prob(JB):                         0.00\n",
       "Kurtosis:                      15.373   Cond. No.                         2.23\n",
       "==============================================================================\n",
       "\n",
       "Warnings:\n",
       "[1] Standard Errors assume that the covariance matrix of the errors is correctly specified.\n",
       "\"\"\""
      ]
     },
     "execution_count": 9,
     "metadata": {},
     "output_type": "execute_result"
    }
   ],
   "source": [
    "import statsmodels.api as sm\n",
    "mod = sm.OLS(y,X)\n",
    "res = mod.fit()\n",
    "res.summary()"
   ]
  },
  {
   "cell_type": "code",
   "execution_count": 10,
   "metadata": {},
   "outputs": [
    {
     "name": "stderr",
     "output_type": "stream",
     "text": [
      "  5%|▍         | 47/965 [00:00<00:14, 62.13it/s]"
     ]
    },
    {
     "name": "stdout",
     "output_type": "stream",
     "text": [
      "adjusting data for ticker: FOX and this time frame: year_ago\n",
      "adjusting data for ticker: FOX and this time frame: year_ago\n"
     ]
    },
    {
     "name": "stderr",
     "output_type": "stream",
     "text": [
      " 13%|█▎        | 125/965 [00:02<00:14, 58.21it/s]"
     ]
    },
    {
     "name": "stdout",
     "output_type": "stream",
     "text": [
      "adjusting data for ticker: BMS and this time frame: prev_date\n",
      "adjusting data for ticker: BMS and this time frame: prev_date\n",
      "adjusting data for ticker: BMS and this time frame: analysis_date\n",
      "adjusting data for ticker: BMS and this time frame: analysis_date\n",
      "adjusting data for ticker: BMS and this time frame: date\n",
      "adjusting data for ticker: BMS and this time frame: date\n",
      "adjusting data for ticker: BMS and this time frame: analysis_date\n",
      "adjusting data for ticker: BMS and this time frame: analysis_date\n"
     ]
    },
    {
     "name": "stderr",
     "output_type": "stream",
     "text": [
      " 24%|██▎       | 227/965 [00:03<00:12, 61.19it/s]"
     ]
    },
    {
     "name": "stdout",
     "output_type": "stream",
     "text": [
      "adjusting data for ticker: FTDR and this time frame: year_ago\n",
      "adjusting data for ticker: FTDR and this time frame: year_ago\n"
     ]
    },
    {
     "name": "stderr",
     "output_type": "stream",
     "text": [
      " 40%|███▉      | 385/965 [00:06<00:08, 64.62it/s]"
     ]
    },
    {
     "name": "stdout",
     "output_type": "stream",
     "text": [
      "adjusting data for ticker: ESTC and this time frame: year_ago\n",
      "adjusting data for ticker: ESTC and this time frame: year_ago\n",
      "adjusting data for ticker: REZI and this time frame: year_ago\n",
      "adjusting data for ticker: REZI and this time frame: year_ago\n"
     ]
    },
    {
     "name": "stderr",
     "output_type": "stream",
     "text": [
      " 53%|█████▎    | 513/965 [00:09<00:12, 35.58it/s]"
     ]
    },
    {
     "name": "stdout",
     "output_type": "stream",
     "text": [
      "adjusting data for ticker: ACA and this time frame: year_ago\n",
      "adjusting data for ticker: ACA and this time frame: year_ago\n"
     ]
    },
    {
     "name": "stderr",
     "output_type": "stream",
     "text": [
      " 55%|█████▍    | 530/965 [00:09<00:10, 42.38it/s]"
     ]
    },
    {
     "name": "stdout",
     "output_type": "stream",
     "text": [
      "adjusting data for ticker: KTB and this time frame: year_ago\n",
      "adjusting data for ticker: KTB and this time frame: year_ago\n"
     ]
    },
    {
     "name": "stderr",
     "output_type": "stream",
     "text": [
      " 57%|█████▋    | 550/965 [00:10<00:08, 50.59it/s]"
     ]
    },
    {
     "name": "stdout",
     "output_type": "stream",
     "text": [
      "adjusting data for ticker: GTX and this time frame: year_ago\n",
      "adjusting data for ticker: GTX and this time frame: year_ago\n"
     ]
    },
    {
     "name": "stderr",
     "output_type": "stream",
     "text": [
      " 64%|██████▍   | 616/965 [00:11<00:06, 56.27it/s]"
     ]
    },
    {
     "name": "stdout",
     "output_type": "stream",
     "text": [
      "adjusting data for ticker: ELAN and this time frame: year_ago\n",
      "adjusting data for ticker: ELAN and this time frame: year_ago\n"
     ]
    },
    {
     "name": "stderr",
     "output_type": "stream",
     "text": [
      " 67%|██████▋   | 642/965 [00:11<00:05, 58.85it/s]"
     ]
    },
    {
     "name": "stdout",
     "output_type": "stream",
     "text": [
      "adjusting data for ticker: MRNA and this time frame: year_ago\n",
      "adjusting data for ticker: MRNA and this time frame: year_ago\n"
     ]
    },
    {
     "name": "stderr",
     "output_type": "stream",
     "text": [
      " 69%|██████▉   | 664/965 [00:12<00:04, 62.21it/s]"
     ]
    },
    {
     "name": "stdout",
     "output_type": "stream",
     "text": [
      "adjusting data for ticker: BPR and this time frame: year_ago\n",
      "adjusting data for ticker: BPR and this time frame: year_ago\n"
     ]
    },
    {
     "name": "stderr",
     "output_type": "stream",
     "text": [
      " 72%|███████▏  | 695/965 [00:12<00:04, 65.99it/s]"
     ]
    },
    {
     "name": "stdout",
     "output_type": "stream",
     "text": [
      "adjusting data for ticker: LGF.B and this time frame: month_ago\n",
      "adjusting data for ticker: LGF.B and this time frame: month_ago\n",
      "adjusting data for ticker: LGF.B and this time frame: year_ago\n",
      "adjusting data for ticker: LGF.B and this time frame: year_ago\n",
      "adjusting data for ticker: LGF.B and this time frame: prev_date\n",
      "adjusting data for ticker: LGF.B and this time frame: prev_date\n",
      "adjusting data for ticker: LGF.B and this time frame: analysis_date\n",
      "adjusting data for ticker: LGF.B and this time frame: analysis_date\n",
      "adjusting data for ticker: LGF.B and this time frame: date\n",
      "adjusting data for ticker: LGF.B and this time frame: date\n",
      "adjusting data for ticker: LGF.B and this time frame: analysis_date\n",
      "adjusting data for ticker: LGF.B and this time frame: analysis_date\n",
      "adjusting data for ticker: ETRN and this time frame: year_ago\n",
      "adjusting data for ticker: ETRN and this time frame: year_ago\n",
      "adjusting data for ticker: FOXA and this time frame: year_ago\n",
      "adjusting data for ticker: FOXA and this time frame: year_ago\n"
     ]
    },
    {
     "name": "stderr",
     "output_type": "stream",
     "text": [
      " 81%|████████  | 779/965 [00:14<00:03, 59.61it/s]"
     ]
    },
    {
     "name": "stdout",
     "output_type": "stream",
     "text": [
      "adjusting data for ticker: CVET and this time frame: year_ago\n",
      "adjusting data for ticker: CVET and this time frame: year_ago\n"
     ]
    },
    {
     "name": "stderr",
     "output_type": "stream",
     "text": [
      " 93%|█████████▎| 896/965 [00:15<00:01, 59.92it/s]"
     ]
    },
    {
     "name": "stdout",
     "output_type": "stream",
     "text": [
      "adjusting data for ticker: SWI and this time frame: year_ago\n",
      "adjusting data for ticker: SWI and this time frame: year_ago\n"
     ]
    },
    {
     "name": "stderr",
     "output_type": "stream",
     "text": [
      " 98%|█████████▊| 945/965 [00:16<00:00, 64.30it/s]"
     ]
    },
    {
     "name": "stdout",
     "output_type": "stream",
     "text": [
      "adjusting data for ticker: DOW and this time frame: year_ago\n",
      "adjusting data for ticker: DOW and this time frame: year_ago\n"
     ]
    },
    {
     "name": "stderr",
     "output_type": "stream",
     "text": [
      "100%|██████████| 965/965 [00:17<00:00, 55.78it/s]"
     ]
    },
    {
     "name": "stdout",
     "output_type": "stream",
     "text": [
      "           mkt_cap  cur_price  prev_price      beta   book_value  \\\n",
      "CSCO  247040933888      57.71       57.73  1.028849  36804000000   \n",
      "SITC    2451814656      13.58       13.07  0.870377   1524945000   \n",
      "UAL    24389509120      94.93       93.83  1.278593  10320000000   \n",
      "TROW   26137581568     110.53      108.87  1.029243   6311000000   \n",
      "ISRG   62087315456     537.79      535.50  1.289684   7279600000   \n",
      "\n",
      "                  sector     eps   month_ago    year_ago   prev_date  \\\n",
      "CSCO          Technology   2.882   55.777992   40.742714   57.740002   \n",
      "SITC         Real Estate   0.922   13.740000   13.690000   13.230000   \n",
      "UAL          Industrials   9.838   88.660004   80.019997   95.279999   \n",
      "TROW  Financial Services   7.586  107.839996  113.965668  109.629997   \n",
      "ISRG          Healthcare  10.129  521.940002  516.289978  536.630005   \n",
      "\n",
      "      analysis_date  trade_date       today      volume  \n",
      "CSCO      57.360001   57.730000   57.709999  13882400.0  \n",
      "SITC      13.010000   13.070000   13.580000    581394.0  \n",
      "UAL       93.830002   93.830002   94.930000   3360700.0  \n",
      "TROW     108.470001  108.870003  110.529999   1762900.0  \n",
      "ISRG     528.809998  535.500000  537.789978   1420900.0  \n"
     ]
    },
    {
     "name": "stderr",
     "output_type": "stream",
     "text": [
      "\n"
     ]
    }
   ],
   "source": [
    "# testing a portfolio from prev_date\n",
    "past_fa = FactorAttribution(date_str='2019-07-23')\n",
    "past_fa.run_attribution()"
   ]
  },
  {
   "cell_type": "code",
   "execution_count": 11,
   "metadata": {},
   "outputs": [
    {
     "data": {
      "text/html": [
       "<div>\n",
       "<style scoped>\n",
       "    .dataframe tbody tr th:only-of-type {\n",
       "        vertical-align: middle;\n",
       "    }\n",
       "\n",
       "    .dataframe tbody tr th {\n",
       "        vertical-align: top;\n",
       "    }\n",
       "\n",
       "    .dataframe thead th {\n",
       "        text-align: right;\n",
       "    }\n",
       "</style>\n",
       "<table border=\"1\" class=\"dataframe\">\n",
       "  <thead>\n",
       "    <tr style=\"text-align: right;\">\n",
       "      <th></th>\n",
       "      <th>mkt_cap</th>\n",
       "      <th>cur_price</th>\n",
       "      <th>prev_price</th>\n",
       "      <th>beta</th>\n",
       "      <th>book_value</th>\n",
       "      <th>sector</th>\n",
       "      <th>eps</th>\n",
       "      <th>month_ago</th>\n",
       "      <th>year_ago</th>\n",
       "      <th>prev_date</th>\n",
       "      <th>analysis_date</th>\n",
       "      <th>trade_date</th>\n",
       "      <th>today</th>\n",
       "      <th>volume</th>\n",
       "    </tr>\n",
       "  </thead>\n",
       "  <tbody>\n",
       "    <tr>\n",
       "      <th>CSCO</th>\n",
       "      <td>247040933888</td>\n",
       "      <td>57.71</td>\n",
       "      <td>57.73</td>\n",
       "      <td>1.028849</td>\n",
       "      <td>36804000000</td>\n",
       "      <td>Technology</td>\n",
       "      <td>2.882</td>\n",
       "      <td>55.777992</td>\n",
       "      <td>40.742714</td>\n",
       "      <td>57.740002</td>\n",
       "      <td>57.360001</td>\n",
       "      <td>57.730000</td>\n",
       "      <td>57.709999</td>\n",
       "      <td>13882400.0</td>\n",
       "    </tr>\n",
       "    <tr>\n",
       "      <th>SITC</th>\n",
       "      <td>2451814656</td>\n",
       "      <td>13.58</td>\n",
       "      <td>13.07</td>\n",
       "      <td>0.870377</td>\n",
       "      <td>1524945000</td>\n",
       "      <td>Real Estate</td>\n",
       "      <td>0.922</td>\n",
       "      <td>13.740000</td>\n",
       "      <td>13.690000</td>\n",
       "      <td>13.230000</td>\n",
       "      <td>13.010000</td>\n",
       "      <td>13.070000</td>\n",
       "      <td>13.580000</td>\n",
       "      <td>581394.0</td>\n",
       "    </tr>\n",
       "    <tr>\n",
       "      <th>UAL</th>\n",
       "      <td>24389509120</td>\n",
       "      <td>94.93</td>\n",
       "      <td>93.83</td>\n",
       "      <td>1.278593</td>\n",
       "      <td>10320000000</td>\n",
       "      <td>Industrials</td>\n",
       "      <td>9.838</td>\n",
       "      <td>88.660004</td>\n",
       "      <td>80.019997</td>\n",
       "      <td>95.279999</td>\n",
       "      <td>93.830002</td>\n",
       "      <td>93.830002</td>\n",
       "      <td>94.930000</td>\n",
       "      <td>3360700.0</td>\n",
       "    </tr>\n",
       "    <tr>\n",
       "      <th>TROW</th>\n",
       "      <td>26137581568</td>\n",
       "      <td>110.53</td>\n",
       "      <td>108.87</td>\n",
       "      <td>1.029243</td>\n",
       "      <td>6311000000</td>\n",
       "      <td>Financial Services</td>\n",
       "      <td>7.586</td>\n",
       "      <td>107.839996</td>\n",
       "      <td>113.965668</td>\n",
       "      <td>109.629997</td>\n",
       "      <td>108.470001</td>\n",
       "      <td>108.870003</td>\n",
       "      <td>110.529999</td>\n",
       "      <td>1762900.0</td>\n",
       "    </tr>\n",
       "    <tr>\n",
       "      <th>ISRG</th>\n",
       "      <td>62087315456</td>\n",
       "      <td>537.79</td>\n",
       "      <td>535.50</td>\n",
       "      <td>1.289684</td>\n",
       "      <td>7279600000</td>\n",
       "      <td>Healthcare</td>\n",
       "      <td>10.129</td>\n",
       "      <td>521.940002</td>\n",
       "      <td>516.289978</td>\n",
       "      <td>536.630005</td>\n",
       "      <td>528.809998</td>\n",
       "      <td>535.500000</td>\n",
       "      <td>537.789978</td>\n",
       "      <td>1420900.0</td>\n",
       "    </tr>\n",
       "  </tbody>\n",
       "</table>\n",
       "</div>"
      ],
      "text/plain": [
       "           mkt_cap  cur_price  prev_price      beta   book_value  \\\n",
       "CSCO  247040933888      57.71       57.73  1.028849  36804000000   \n",
       "SITC    2451814656      13.58       13.07  0.870377   1524945000   \n",
       "UAL    24389509120      94.93       93.83  1.278593  10320000000   \n",
       "TROW   26137581568     110.53      108.87  1.029243   6311000000   \n",
       "ISRG   62087315456     537.79      535.50  1.289684   7279600000   \n",
       "\n",
       "                  sector     eps   month_ago    year_ago   prev_date  \\\n",
       "CSCO          Technology   2.882   55.777992   40.742714   57.740002   \n",
       "SITC         Real Estate   0.922   13.740000   13.690000   13.230000   \n",
       "UAL          Industrials   9.838   88.660004   80.019997   95.279999   \n",
       "TROW  Financial Services   7.586  107.839996  113.965668  109.629997   \n",
       "ISRG          Healthcare  10.129  521.940002  516.289978  536.630005   \n",
       "\n",
       "      analysis_date  trade_date       today      volume  \n",
       "CSCO      57.360001   57.730000   57.709999  13882400.0  \n",
       "SITC      13.010000   13.070000   13.580000    581394.0  \n",
       "UAL       93.830002   93.830002   94.930000   3360700.0  \n",
       "TROW     108.470001  108.870003  110.529999   1762900.0  \n",
       "ISRG     528.809998  535.500000  537.789978   1420900.0  "
      ]
     },
     "execution_count": 11,
     "metadata": {},
     "output_type": "execute_result"
    }
   ],
   "source": [
    "past_fa.info.head()"
   ]
  },
  {
   "cell_type": "code",
   "execution_count": 12,
   "metadata": {},
   "outputs": [
    {
     "data": {
      "text/plain": [
       "{'date': datetime.datetime(2019, 7, 23, 0, 0),\n",
       " 'date_str': '2019-07-23',\n",
       " 'prev_date': Timestamp('2019-07-18 00:00:00'),\n",
       " 'prev_date_str': '2019-07-18',\n",
       " 'analysis_date': Timestamp('2019-07-19 00:00:00'),\n",
       " 'analysis_date_str': '2019-07-19',\n",
       " 'trade_date': Timestamp('2019-07-22 00:00:00'),\n",
       " 'trade_date_str': '2019-07-22',\n",
       " 'year_ago': Timestamp('2018-08-01 00:00:00'),\n",
       " 'year_ago_str': '2018-08-01',\n",
       " 'month_ago': Timestamp('2019-06-19 00:00:00'),\n",
       " 'month_ago_str': '2019-06-19'}"
      ]
     },
     "execution_count": 12,
     "metadata": {},
     "output_type": "execute_result"
    }
   ],
   "source": [
    "past_fa.date_sets['CSCO']"
   ]
  },
  {
   "cell_type": "code",
   "execution_count": 13,
   "metadata": {},
   "outputs": [
    {
     "name": "stdout",
     "output_type": "stream",
     "text": [
      "[ 0.00240178 -0.00066418 -0.00267816  0.00062823 -0.00064746  0.00493234]\n",
      "r-squared:  0.15473165376127007\n",
      "             y      pred\n",
      "MTCH -0.005877 -0.007002\n",
      "NEM  -0.007042 -0.005369\n",
      "LW   -0.059460 -0.005091\n",
      "HSY   0.001563 -0.004368\n",
      "SBUX -0.008949 -0.002827\n",
      "HRL  -0.005090 -0.002588\n",
      "PG   -0.012656 -0.002466\n",
      "MCD  -0.003214 -0.002266\n",
      "PSA   0.006860 -0.001752\n",
      "CHD  -0.004789 -0.001690\n",
      "             y      pred\n",
      "URI   0.031256  0.028508\n",
      "XOG   0.009852  0.029483\n",
      "CDEV  0.025933  0.031774\n",
      "CC    0.025975  0.031777\n",
      "NKTR -0.007760  0.031917\n",
      "X     0.015484  0.033965\n",
      "WLL   0.032422  0.038291\n",
      "SM   -0.000986  0.038409\n",
      "AR    0.004016  0.039242\n",
      "RLGY  0.176513  0.049137\n"
     ]
    }
   ],
   "source": [
    "past_df = compute_attribution_columns(past_fa.info)\n",
    "past_df.dropna(inplace=True)\n",
    "past_df = past_df.nlargest(500, 'volume')\n",
    "\n",
    "lm = LinearRegression()\n",
    "past_df[['beta', 'momentum', 'size', 'value', 'reversion', 'profitability']] = past_df[['beta', 'momentum', 'size', \n",
    "                                                             'value', 'reversion', 'profitability']].apply(zscore)\n",
    "\n",
    "X_past = past_df[['value', 'size', 'reversion', 'profitability', 'momentum', 'beta']]\n",
    "y_past = past_df['returns']\n",
    "lm.fit(X_past,y_past)\n",
    "print(lm.coef_)\n",
    "pred_past = lm.predict(X_past)\n",
    "print('r-squared: ', r2_score(y_past, pred_past))\n",
    "results_past = pd.DataFrame(data={'y':y_past, 'pred': pred_past}).sort_values(by='pred')\n",
    "print(results_past.head(10))\n",
    "print(results_past.tail(10))\n",
    "short_tickers = results_past[0:10].index\n",
    "long_tickers = results_past[-10:].index\n"
   ]
  },
  {
   "cell_type": "code",
   "execution_count": 16,
   "metadata": {},
   "outputs": [],
   "source": [
    "def compute_new_columns(df, short_tickers, long_tickers):\n",
    "    new_index = short_tickers.union(long_tickers)\n",
    "    df = df.loc[new_index].copy()\n",
    "    df['returns'] = np.log(df['today'] / df['trade_date'])\n",
    "    df['invested'] = 1000.0\n",
    "    df.loc[short_tickers, 'invested'] = -1000.0\n",
    "    df['pl'] = df['invested'] * df['returns']\n",
    "    return df[['today', 'trade_date', 'returns', 'invested', 'pl']]"
   ]
  },
  {
   "cell_type": "code",
   "execution_count": 17,
   "metadata": {},
   "outputs": [
    {
     "name": "stdout",
     "output_type": "stream",
     "text": [
      "this is long p&l:  -191.94701758281062\n",
      "this is short p&l:  -116.07896792125162\n",
      "return percentage = -1.54%\n"
     ]
    }
   ],
   "source": [
    "new = compute_new_columns(fa.info, short_tickers, long_tickers)\n",
    "pl = new['pl'].sum()\n",
    "long_return = new.loc[long_tickers, 'pl'].sum()\n",
    "short_return = new.loc[short_tickers, 'pl'].sum()\n",
    "print('this is long p&l: ', long_return)\n",
    "print('this is short p&l: ', short_return)\n",
    "print(f'return percentage = {100 *(long_return + short_return) / 20000:.2f}%')"
   ]
  },
  {
   "cell_type": "code",
   "execution_count": 19,
   "metadata": {},
   "outputs": [
    {
     "data": {
      "text/html": [
       "<div>\n",
       "<style scoped>\n",
       "    .dataframe tbody tr th:only-of-type {\n",
       "        vertical-align: middle;\n",
       "    }\n",
       "\n",
       "    .dataframe tbody tr th {\n",
       "        vertical-align: top;\n",
       "    }\n",
       "\n",
       "    .dataframe thead th {\n",
       "        text-align: right;\n",
       "    }\n",
       "</style>\n",
       "<table border=\"1\" class=\"dataframe\">\n",
       "  <thead>\n",
       "    <tr style=\"text-align: right;\">\n",
       "      <th></th>\n",
       "      <th>today</th>\n",
       "      <th>trade_date</th>\n",
       "      <th>returns</th>\n",
       "      <th>invested</th>\n",
       "      <th>pl</th>\n",
       "    </tr>\n",
       "  </thead>\n",
       "  <tbody>\n",
       "    <tr>\n",
       "      <th>AR</th>\n",
       "      <td>4.130000</td>\n",
       "      <td>4.490000</td>\n",
       "      <td>-0.083575</td>\n",
       "      <td>1000.0</td>\n",
       "      <td>-83.575216</td>\n",
       "    </tr>\n",
       "    <tr>\n",
       "      <th>CC</th>\n",
       "      <td>19.490000</td>\n",
       "      <td>19.040001</td>\n",
       "      <td>0.023359</td>\n",
       "      <td>1000.0</td>\n",
       "      <td>23.359424</td>\n",
       "    </tr>\n",
       "    <tr>\n",
       "      <th>CDEV</th>\n",
       "      <td>5.690000</td>\n",
       "      <td>5.810000</td>\n",
       "      <td>-0.020870</td>\n",
       "      <td>1000.0</td>\n",
       "      <td>-20.870303</td>\n",
       "    </tr>\n",
       "    <tr>\n",
       "      <th>CHD</th>\n",
       "      <td>75.839996</td>\n",
       "      <td>74.480003</td>\n",
       "      <td>0.018095</td>\n",
       "      <td>-1000.0</td>\n",
       "      <td>-18.095132</td>\n",
       "    </tr>\n",
       "    <tr>\n",
       "      <th>HRL</th>\n",
       "      <td>41.380001</td>\n",
       "      <td>40.830002</td>\n",
       "      <td>0.013381</td>\n",
       "      <td>-1000.0</td>\n",
       "      <td>-13.380548</td>\n",
       "    </tr>\n",
       "    <tr>\n",
       "      <th>HSY</th>\n",
       "      <td>152.979996</td>\n",
       "      <td>149.720001</td>\n",
       "      <td>0.021540</td>\n",
       "      <td>-1000.0</td>\n",
       "      <td>-21.540275</td>\n",
       "    </tr>\n",
       "    <tr>\n",
       "      <th>LW</th>\n",
       "      <td>64.680000</td>\n",
       "      <td>64.790001</td>\n",
       "      <td>-0.001699</td>\n",
       "      <td>-1000.0</td>\n",
       "      <td>1.699245</td>\n",
       "    </tr>\n",
       "    <tr>\n",
       "      <th>MCD</th>\n",
       "      <td>215.580002</td>\n",
       "      <td>214.440002</td>\n",
       "      <td>0.005302</td>\n",
       "      <td>-1000.0</td>\n",
       "      <td>-5.302089</td>\n",
       "    </tr>\n",
       "    <tr>\n",
       "      <th>MTCH</th>\n",
       "      <td>77.190002</td>\n",
       "      <td>77.699997</td>\n",
       "      <td>-0.006585</td>\n",
       "      <td>-1000.0</td>\n",
       "      <td>6.585272</td>\n",
       "    </tr>\n",
       "    <tr>\n",
       "      <th>NEM</th>\n",
       "      <td>37.279999</td>\n",
       "      <td>38.250000</td>\n",
       "      <td>-0.025687</td>\n",
       "      <td>-1000.0</td>\n",
       "      <td>25.686603</td>\n",
       "    </tr>\n",
       "    <tr>\n",
       "      <th>NKTR</th>\n",
       "      <td>31.120001</td>\n",
       "      <td>29.990000</td>\n",
       "      <td>0.036987</td>\n",
       "      <td>1000.0</td>\n",
       "      <td>36.986741</td>\n",
       "    </tr>\n",
       "    <tr>\n",
       "      <th>PG</th>\n",
       "      <td>114.730003</td>\n",
       "      <td>112.769997</td>\n",
       "      <td>0.017231</td>\n",
       "      <td>-1000.0</td>\n",
       "      <td>-17.231255</td>\n",
       "    </tr>\n",
       "    <tr>\n",
       "      <th>PSA</th>\n",
       "      <td>239.429993</td>\n",
       "      <td>242.100006</td>\n",
       "      <td>-0.011090</td>\n",
       "      <td>-1000.0</td>\n",
       "      <td>11.089821</td>\n",
       "    </tr>\n",
       "    <tr>\n",
       "      <th>RLGY</th>\n",
       "      <td>5.400000</td>\n",
       "      <td>5.440000</td>\n",
       "      <td>-0.007380</td>\n",
       "      <td>1000.0</td>\n",
       "      <td>-7.380100</td>\n",
       "    </tr>\n",
       "    <tr>\n",
       "      <th>SBUX</th>\n",
       "      <td>99.110001</td>\n",
       "      <td>90.980003</td>\n",
       "      <td>0.085591</td>\n",
       "      <td>-1000.0</td>\n",
       "      <td>-85.590612</td>\n",
       "    </tr>\n",
       "    <tr>\n",
       "      <th>SM</th>\n",
       "      <td>9.230000</td>\n",
       "      <td>9.510000</td>\n",
       "      <td>-0.029885</td>\n",
       "      <td>1000.0</td>\n",
       "      <td>-29.884902</td>\n",
       "    </tr>\n",
       "    <tr>\n",
       "      <th>URI</th>\n",
       "      <td>127.610001</td>\n",
       "      <td>127.739998</td>\n",
       "      <td>-0.001018</td>\n",
       "      <td>1000.0</td>\n",
       "      <td>-1.018189</td>\n",
       "    </tr>\n",
       "    <tr>\n",
       "      <th>WLL</th>\n",
       "      <td>15.980000</td>\n",
       "      <td>16.320000</td>\n",
       "      <td>-0.021053</td>\n",
       "      <td>1000.0</td>\n",
       "      <td>-21.053419</td>\n",
       "    </tr>\n",
       "    <tr>\n",
       "      <th>X</th>\n",
       "      <td>15.190000</td>\n",
       "      <td>15.280000</td>\n",
       "      <td>-0.005907</td>\n",
       "      <td>1000.0</td>\n",
       "      <td>-5.907477</td>\n",
       "    </tr>\n",
       "    <tr>\n",
       "      <th>XOG</th>\n",
       "      <td>3.600000</td>\n",
       "      <td>3.910000</td>\n",
       "      <td>-0.082604</td>\n",
       "      <td>1000.0</td>\n",
       "      <td>-82.603577</td>\n",
       "    </tr>\n",
       "  </tbody>\n",
       "</table>\n",
       "</div>"
      ],
      "text/plain": [
       "           today  trade_date   returns  invested         pl\n",
       "AR      4.130000    4.490000 -0.083575    1000.0 -83.575216\n",
       "CC     19.490000   19.040001  0.023359    1000.0  23.359424\n",
       "CDEV    5.690000    5.810000 -0.020870    1000.0 -20.870303\n",
       "CHD    75.839996   74.480003  0.018095   -1000.0 -18.095132\n",
       "HRL    41.380001   40.830002  0.013381   -1000.0 -13.380548\n",
       "HSY   152.979996  149.720001  0.021540   -1000.0 -21.540275\n",
       "LW     64.680000   64.790001 -0.001699   -1000.0   1.699245\n",
       "MCD   215.580002  214.440002  0.005302   -1000.0  -5.302089\n",
       "MTCH   77.190002   77.699997 -0.006585   -1000.0   6.585272\n",
       "NEM    37.279999   38.250000 -0.025687   -1000.0  25.686603\n",
       "NKTR   31.120001   29.990000  0.036987    1000.0  36.986741\n",
       "PG    114.730003  112.769997  0.017231   -1000.0 -17.231255\n",
       "PSA   239.429993  242.100006 -0.011090   -1000.0  11.089821\n",
       "RLGY    5.400000    5.440000 -0.007380    1000.0  -7.380100\n",
       "SBUX   99.110001   90.980003  0.085591   -1000.0 -85.590612\n",
       "SM      9.230000    9.510000 -0.029885    1000.0 -29.884902\n",
       "URI   127.610001  127.739998 -0.001018    1000.0  -1.018189\n",
       "WLL    15.980000   16.320000 -0.021053    1000.0 -21.053419\n",
       "X      15.190000   15.280000 -0.005907    1000.0  -5.907477\n",
       "XOG     3.600000    3.910000 -0.082604    1000.0 -82.603577"
      ]
     },
     "execution_count": 19,
     "metadata": {},
     "output_type": "execute_result"
    }
   ],
   "source": [
    "new"
   ]
  },
  {
   "cell_type": "code",
   "execution_count": null,
   "metadata": {},
   "outputs": [],
   "source": []
  }
 ],
 "metadata": {
  "kernelspec": {
   "display_name": "Python 3",
   "language": "python",
   "name": "python3"
  },
  "language_info": {
   "codemirror_mode": {
    "name": "ipython",
    "version": 3
   },
   "file_extension": ".py",
   "mimetype": "text/x-python",
   "name": "python",
   "nbconvert_exporter": "python",
   "pygments_lexer": "ipython3",
   "version": "3.7.3"
  }
 },
 "nbformat": 4,
 "nbformat_minor": 2
}
