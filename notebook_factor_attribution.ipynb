{
 "cells": [
  {
   "cell_type": "code",
   "execution_count": 1,
   "metadata": {},
   "outputs": [],
   "source": [
    "import pandas as pd\n",
    "import numpy as np\n",
    "from scipy.stats import zscore\n",
    "import matplotlib.pyplot as plt\n",
    "import matplotlib.style as style\n",
    "style.use('seaborn-poster')\n",
    "style.use('ggplot')\n",
    "\n",
    "from factor_attribution import FactorAttribution"
   ]
  },
  {
   "cell_type": "code",
   "execution_count": 2,
   "metadata": {},
   "outputs": [
    {
     "name": "stderr",
     "output_type": "stream",
     "text": [
      "  5%|▍         | 46/965 [00:00<00:12, 71.04it/s]"
     ]
    },
    {
     "name": "stdout",
     "output_type": "stream",
     "text": [
      "adjusting data for ticker: FOX and this time frame: year_ago\n",
      "adjusting data for ticker: FOX and this time frame: year_ago\n"
     ]
    },
    {
     "name": "stderr",
     "output_type": "stream",
     "text": [
      " 13%|█▎        | 127/965 [00:01<00:13, 64.18it/s]"
     ]
    },
    {
     "name": "stdout",
     "output_type": "stream",
     "text": [
      "adjusting data for ticker: BMS and this time frame: prev_date\n",
      "adjusting data for ticker: BMS and this time frame: prev_date\n",
      "adjusting data for ticker: BMS and this time frame: analysis_date\n",
      "adjusting data for ticker: BMS and this time frame: analysis_date\n",
      "adjusting data for ticker: BMS and this time frame: pred_date\n",
      "adjusting data for ticker: BMS and this time frame: pred_date\n",
      "adjusting data for ticker: BMS and this time frame: analysis_date\n",
      "adjusting data for ticker: BMS and this time frame: analysis_date\n"
     ]
    },
    {
     "name": "stderr",
     "output_type": "stream",
     "text": [
      " 23%|██▎       | 225/965 [00:03<00:10, 72.33it/s]"
     ]
    },
    {
     "name": "stdout",
     "output_type": "stream",
     "text": [
      "adjusting data for ticker: FTDR and this time frame: year_ago\n",
      "adjusting data for ticker: FTDR and this time frame: year_ago\n"
     ]
    },
    {
     "name": "stderr",
     "output_type": "stream",
     "text": [
      " 41%|████      | 391/965 [00:05<00:08, 69.97it/s]"
     ]
    },
    {
     "name": "stdout",
     "output_type": "stream",
     "text": [
      "adjusting data for ticker: ESTC and this time frame: year_ago\n",
      "adjusting data for ticker: ESTC and this time frame: year_ago\n",
      "adjusting data for ticker: REZI and this time frame: year_ago\n",
      "adjusting data for ticker: REZI and this time frame: year_ago\n"
     ]
    },
    {
     "name": "stderr",
     "output_type": "stream",
     "text": [
      " 53%|█████▎    | 510/965 [00:07<00:06, 69.86it/s]"
     ]
    },
    {
     "name": "stdout",
     "output_type": "stream",
     "text": [
      "adjusting data for ticker: ACA and this time frame: year_ago\n",
      "adjusting data for ticker: ACA and this time frame: year_ago\n"
     ]
    },
    {
     "name": "stderr",
     "output_type": "stream",
     "text": [
      " 55%|█████▌    | 533/965 [00:07<00:06, 66.20it/s]"
     ]
    },
    {
     "name": "stdout",
     "output_type": "stream",
     "text": [
      "adjusting data for ticker: KTB and this time frame: year_ago\n",
      "adjusting data for ticker: KTB and this time frame: year_ago\n"
     ]
    },
    {
     "name": "stderr",
     "output_type": "stream",
     "text": [
      " 57%|█████▋    | 550/965 [00:07<00:06, 67.86it/s]"
     ]
    },
    {
     "name": "stdout",
     "output_type": "stream",
     "text": [
      "adjusting data for ticker: GTX and this time frame: year_ago\n",
      "adjusting data for ticker: GTX and this time frame: year_ago\n"
     ]
    },
    {
     "name": "stderr",
     "output_type": "stream",
     "text": [
      " 64%|██████▍   | 617/965 [00:08<00:05, 61.30it/s]"
     ]
    },
    {
     "name": "stdout",
     "output_type": "stream",
     "text": [
      "adjusting data for ticker: ELAN and this time frame: year_ago\n",
      "adjusting data for ticker: ELAN and this time frame: year_ago\n"
     ]
    },
    {
     "name": "stderr",
     "output_type": "stream",
     "text": [
      " 66%|██████▌   | 638/965 [00:09<00:05, 62.54it/s]"
     ]
    },
    {
     "name": "stdout",
     "output_type": "stream",
     "text": [
      "adjusting data for ticker: MRNA and this time frame: year_ago\n",
      "adjusting data for ticker: MRNA and this time frame: year_ago\n"
     ]
    },
    {
     "name": "stderr",
     "output_type": "stream",
     "text": [
      " 68%|██████▊   | 661/965 [00:09<00:04, 63.90it/s]"
     ]
    },
    {
     "name": "stdout",
     "output_type": "stream",
     "text": [
      "adjusting data for ticker: BPR and this time frame: year_ago\n",
      "adjusting data for ticker: BPR and this time frame: year_ago\n"
     ]
    },
    {
     "name": "stderr",
     "output_type": "stream",
     "text": [
      " 72%|███████▏  | 699/965 [00:10<00:03, 69.73it/s]"
     ]
    },
    {
     "name": "stdout",
     "output_type": "stream",
     "text": [
      "adjusting data for ticker: LGF.B and this time frame: month_ago\n",
      "adjusting data for ticker: LGF.B and this time frame: month_ago\n",
      "adjusting data for ticker: LGF.B and this time frame: year_ago\n",
      "adjusting data for ticker: LGF.B and this time frame: year_ago\n",
      "adjusting data for ticker: LGF.B and this time frame: prev_date\n",
      "adjusting data for ticker: LGF.B and this time frame: prev_date\n",
      "adjusting data for ticker: LGF.B and this time frame: analysis_date\n",
      "adjusting data for ticker: LGF.B and this time frame: analysis_date\n",
      "adjusting data for ticker: LGF.B and this time frame: pred_date\n",
      "adjusting data for ticker: LGF.B and this time frame: pred_date\n",
      "adjusting data for ticker: LGF.B and this time frame: analysis_date\n",
      "adjusting data for ticker: LGF.B and this time frame: analysis_date\n",
      "adjusting data for ticker: ETRN and this time frame: year_ago\n",
      "adjusting data for ticker: ETRN and this time frame: year_ago\n",
      "adjusting data for ticker: FOXA and this time frame: year_ago\n",
      "adjusting data for ticker: FOXA and this time frame: year_ago\n"
     ]
    },
    {
     "name": "stderr",
     "output_type": "stream",
     "text": [
      " 81%|████████  | 778/965 [00:11<00:03, 62.30it/s]"
     ]
    },
    {
     "name": "stdout",
     "output_type": "stream",
     "text": [
      "adjusting data for ticker: CVET and this time frame: year_ago\n",
      "adjusting data for ticker: CVET and this time frame: year_ago\n"
     ]
    },
    {
     "name": "stderr",
     "output_type": "stream",
     "text": [
      " 93%|█████████▎| 899/965 [00:13<00:01, 63.46it/s]"
     ]
    },
    {
     "name": "stdout",
     "output_type": "stream",
     "text": [
      "adjusting data for ticker: SWI and this time frame: year_ago\n",
      "adjusting data for ticker: SWI and this time frame: year_ago\n"
     ]
    },
    {
     "name": "stderr",
     "output_type": "stream",
     "text": [
      " 98%|█████████▊| 950/965 [00:14<00:00, 67.43it/s]"
     ]
    },
    {
     "name": "stdout",
     "output_type": "stream",
     "text": [
      "adjusting data for ticker: DOW and this time frame: year_ago\n",
      "adjusting data for ticker: DOW and this time frame: year_ago\n"
     ]
    },
    {
     "name": "stderr",
     "output_type": "stream",
     "text": [
      "100%|██████████| 965/965 [00:14<00:00, 67.71it/s]"
     ]
    },
    {
     "name": "stdout",
     "output_type": "stream",
     "text": [
      "           mkt_cap      beta   book_value              sector     eps  \\\n",
      "CSCO  244986183680  1.028849  36804000000          Technology   2.882   \n",
      "SITC    2489729280  0.870377   1524945000         Real Estate   0.922   \n",
      "UAL    24435755008  1.278593  10320000000         Industrials   9.838   \n",
      "TROW   26785523712  1.029243   6311000000  Financial Services   7.586   \n",
      "ISRG   62586986496  1.289684   7265300000          Healthcare  10.129   \n",
      "\n",
      "       month_ago    year_ago   prev_date  analysis_date  trade_date  \\\n",
      "CSCO   56.821407   42.144276   57.709999      57.230000   56.619999   \n",
      "SITC   13.180000   13.610000   13.580000      13.790000   13.640000   \n",
      "UAL    86.550003   81.830002   94.930000      95.110001   93.930000   \n",
      "TROW  107.059998  115.209610  110.529999     113.269997  113.919998   \n",
      "ISRG  525.799988  520.799988  537.789978     543.039978  531.690002   \n",
      "\n",
      "       pred_date      volume  \n",
      "CSCO   56.529999  18177000.0  \n",
      "SITC   13.640000   1757121.0  \n",
      "UAL    93.360001   2344400.0  \n",
      "TROW  115.199997   1762000.0  \n",
      "ISRG  527.630005    634700.0  \n"
     ]
    },
    {
     "name": "stderr",
     "output_type": "stream",
     "text": [
      "\n"
     ]
    }
   ],
   "source": [
    "fa = FactorAttribution(analysis_date_str='2019-07-24')\n",
    "fa.run_attribution()"
   ]
  },
  {
   "cell_type": "code",
   "execution_count": 17,
   "metadata": {},
   "outputs": [
    {
     "name": "stdout",
     "output_type": "stream",
     "text": [
      "mkt_cap          244986183680\n",
      "beta                  1.02885\n",
      "book_value        36804000000\n",
      "sector             Technology\n",
      "eps                     2.882\n",
      "month_ago             56.8214\n",
      "year_ago              42.1443\n",
      "prev_date               57.71\n",
      "analysis_date           57.23\n",
      "trade_date              56.62\n",
      "pred_date               56.53\n",
      "volume             1.8177e+07\n",
      "value                0.150229\n",
      "momentum             0.298814\n",
      "reversion          0.00716508\n",
      "returns           -0.00159081\n",
      "size             244986183680\n",
      "profitability           2.882\n",
      "Name: CSCO, dtype: object\n",
      "\n",
      "pred_date_str: 2019-07-26\n",
      "\n",
      "prev_date_str: 2019-07-23\n",
      "\n",
      "analysis_date_str: 2019-07-24\n",
      "\n",
      "trade_date_str: 2019-07-25\n",
      "\n",
      "year_ago_str: 2018-08-06\n",
      "\n",
      "month_ago_str: 2019-06-24\n",
      "\n"
     ]
    },
    {
     "data": {
      "text/html": [
       "<div>\n",
       "<style scoped>\n",
       "    .dataframe tbody tr th:only-of-type {\n",
       "        vertical-align: middle;\n",
       "    }\n",
       "\n",
       "    .dataframe tbody tr th {\n",
       "        vertical-align: top;\n",
       "    }\n",
       "\n",
       "    .dataframe thead th {\n",
       "        text-align: right;\n",
       "    }\n",
       "</style>\n",
       "<table border=\"1\" class=\"dataframe\">\n",
       "  <thead>\n",
       "    <tr style=\"text-align: right;\">\n",
       "      <th></th>\n",
       "      <th>mkt_cap</th>\n",
       "      <th>beta</th>\n",
       "      <th>book_value</th>\n",
       "      <th>sector</th>\n",
       "      <th>eps</th>\n",
       "      <th>month_ago</th>\n",
       "      <th>year_ago</th>\n",
       "      <th>prev_date</th>\n",
       "      <th>analysis_date</th>\n",
       "      <th>trade_date</th>\n",
       "      <th>pred_date</th>\n",
       "      <th>volume</th>\n",
       "      <th>value</th>\n",
       "      <th>momentum</th>\n",
       "      <th>reversion</th>\n",
       "      <th>returns</th>\n",
       "      <th>size</th>\n",
       "      <th>profitability</th>\n",
       "    </tr>\n",
       "  </thead>\n",
       "  <tbody>\n",
       "    <tr>\n",
       "      <th>CSCO</th>\n",
       "      <td>244986183680</td>\n",
       "      <td>1.028849</td>\n",
       "      <td>36804000000</td>\n",
       "      <td>Technology</td>\n",
       "      <td>2.882</td>\n",
       "      <td>56.821407</td>\n",
       "      <td>42.144276</td>\n",
       "      <td>57.709999</td>\n",
       "      <td>57.230000</td>\n",
       "      <td>56.619999</td>\n",
       "      <td>56.529999</td>\n",
       "      <td>18177000.0</td>\n",
       "      <td>0.150229</td>\n",
       "      <td>0.298814</td>\n",
       "      <td>0.007165</td>\n",
       "      <td>-0.001591</td>\n",
       "      <td>244986183680</td>\n",
       "      <td>2.882</td>\n",
       "    </tr>\n",
       "    <tr>\n",
       "      <th>SITC</th>\n",
       "      <td>2489729280</td>\n",
       "      <td>0.870377</td>\n",
       "      <td>1524945000</td>\n",
       "      <td>Real Estate</td>\n",
       "      <td>0.922</td>\n",
       "      <td>13.180000</td>\n",
       "      <td>13.610000</td>\n",
       "      <td>13.580000</td>\n",
       "      <td>13.790000</td>\n",
       "      <td>13.640000</td>\n",
       "      <td>13.640000</td>\n",
       "      <td>1757121.0</td>\n",
       "      <td>0.612494</td>\n",
       "      <td>-0.032104</td>\n",
       "      <td>0.045243</td>\n",
       "      <td>0.000000</td>\n",
       "      <td>2489729280</td>\n",
       "      <td>0.922</td>\n",
       "    </tr>\n",
       "    <tr>\n",
       "      <th>UAL</th>\n",
       "      <td>24435755008</td>\n",
       "      <td>1.278593</td>\n",
       "      <td>10320000000</td>\n",
       "      <td>Industrials</td>\n",
       "      <td>9.838</td>\n",
       "      <td>86.550003</td>\n",
       "      <td>81.830002</td>\n",
       "      <td>94.930000</td>\n",
       "      <td>95.110001</td>\n",
       "      <td>93.930000</td>\n",
       "      <td>93.360001</td>\n",
       "      <td>2344400.0</td>\n",
       "      <td>0.422332</td>\n",
       "      <td>0.056078</td>\n",
       "      <td>0.094312</td>\n",
       "      <td>-0.006087</td>\n",
       "      <td>24435755008</td>\n",
       "      <td>9.838</td>\n",
       "    </tr>\n",
       "    <tr>\n",
       "      <th>TROW</th>\n",
       "      <td>26785523712</td>\n",
       "      <td>1.029243</td>\n",
       "      <td>6311000000</td>\n",
       "      <td>Financial Services</td>\n",
       "      <td>7.586</td>\n",
       "      <td>107.059998</td>\n",
       "      <td>115.209610</td>\n",
       "      <td>110.529999</td>\n",
       "      <td>113.269997</td>\n",
       "      <td>113.919998</td>\n",
       "      <td>115.199997</td>\n",
       "      <td>1762000.0</td>\n",
       "      <td>0.235612</td>\n",
       "      <td>-0.073364</td>\n",
       "      <td>0.056385</td>\n",
       "      <td>0.011173</td>\n",
       "      <td>26785523712</td>\n",
       "      <td>7.586</td>\n",
       "    </tr>\n",
       "    <tr>\n",
       "      <th>ISRG</th>\n",
       "      <td>62586986496</td>\n",
       "      <td>1.289684</td>\n",
       "      <td>7265300000</td>\n",
       "      <td>Healthcare</td>\n",
       "      <td>10.129</td>\n",
       "      <td>525.799988</td>\n",
       "      <td>520.799988</td>\n",
       "      <td>537.789978</td>\n",
       "      <td>543.039978</td>\n",
       "      <td>531.690002</td>\n",
       "      <td>527.630005</td>\n",
       "      <td>634700.0</td>\n",
       "      <td>0.116083</td>\n",
       "      <td>0.009555</td>\n",
       "      <td>0.032262</td>\n",
       "      <td>-0.007665</td>\n",
       "      <td>62586986496</td>\n",
       "      <td>10.129</td>\n",
       "    </tr>\n",
       "  </tbody>\n",
       "</table>\n",
       "</div>"
      ],
      "text/plain": [
       "           mkt_cap      beta   book_value              sector     eps  \\\n",
       "CSCO  244986183680  1.028849  36804000000          Technology   2.882   \n",
       "SITC    2489729280  0.870377   1524945000         Real Estate   0.922   \n",
       "UAL    24435755008  1.278593  10320000000         Industrials   9.838   \n",
       "TROW   26785523712  1.029243   6311000000  Financial Services   7.586   \n",
       "ISRG   62586986496  1.289684   7265300000          Healthcare  10.129   \n",
       "\n",
       "       month_ago    year_ago   prev_date  analysis_date  trade_date  \\\n",
       "CSCO   56.821407   42.144276   57.709999      57.230000   56.619999   \n",
       "SITC   13.180000   13.610000   13.580000      13.790000   13.640000   \n",
       "UAL    86.550003   81.830002   94.930000      95.110001   93.930000   \n",
       "TROW  107.059998  115.209610  110.529999     113.269997  113.919998   \n",
       "ISRG  525.799988  520.799988  537.789978     543.039978  531.690002   \n",
       "\n",
       "       pred_date      volume     value  momentum  reversion   returns  \\\n",
       "CSCO   56.529999  18177000.0  0.150229  0.298814   0.007165 -0.001591   \n",
       "SITC   13.640000   1757121.0  0.612494 -0.032104   0.045243  0.000000   \n",
       "UAL    93.360001   2344400.0  0.422332  0.056078   0.094312 -0.006087   \n",
       "TROW  115.199997   1762000.0  0.235612 -0.073364   0.056385  0.011173   \n",
       "ISRG  527.630005    634700.0  0.116083  0.009555   0.032262 -0.007665   \n",
       "\n",
       "              size  profitability  \n",
       "CSCO  244986183680          2.882  \n",
       "SITC    2489729280          0.922  \n",
       "UAL    24435755008          9.838  \n",
       "TROW   26785523712          7.586  \n",
       "ISRG   62586986496         10.129  "
      ]
     },
     "execution_count": 17,
     "metadata": {},
     "output_type": "execute_result"
    }
   ],
   "source": [
    "print(fa.info.loc['CSCO',:])\n",
    "print()\n",
    "for key, value in fa.date_sets['CSCO'].items():\n",
    "    if '_str' in key:\n",
    "        print('{}: {}\\n'.format(key, value))\n",
    "fa.info.head()"
   ]
  },
  {
   "cell_type": "code",
   "execution_count": 18,
   "metadata": {},
   "outputs": [],
   "source": [
    "def compute_attribution_columns(df):\n",
    "    df['value'] = df['book_value'] / df['mkt_cap']\n",
    "    df['momentum'] = np.log(df['month_ago'] / df['year_ago'])\n",
    "    df['reversion'] = np.log(df['analysis_date']/df['month_ago'])\n",
    "    df['returns'] = np.log(df['pred_date'] / df['trade_date'])\n",
    "    df['size'] = df['mkt_cap']\n",
    "    df['profitability'] = df['eps']\n",
    "    new_df = df[['returns', 'beta', 'momentum', 'size', 'value', 'reversion', 'profitability', 'volume']].copy()\n",
    "    return new_df"
   ]
  },
  {
   "cell_type": "code",
   "execution_count": 19,
   "metadata": {},
   "outputs": [
    {
     "name": "stdout",
     "output_type": "stream",
     "text": [
      "(500, 8)\n"
     ]
    },
    {
     "data": {
      "text/html": [
       "<div>\n",
       "<style scoped>\n",
       "    .dataframe tbody tr th:only-of-type {\n",
       "        vertical-align: middle;\n",
       "    }\n",
       "\n",
       "    .dataframe tbody tr th {\n",
       "        vertical-align: top;\n",
       "    }\n",
       "\n",
       "    .dataframe thead th {\n",
       "        text-align: right;\n",
       "    }\n",
       "</style>\n",
       "<table border=\"1\" class=\"dataframe\">\n",
       "  <thead>\n",
       "    <tr style=\"text-align: right;\">\n",
       "      <th></th>\n",
       "      <th>returns</th>\n",
       "      <th>beta</th>\n",
       "      <th>momentum</th>\n",
       "      <th>size</th>\n",
       "      <th>value</th>\n",
       "      <th>reversion</th>\n",
       "      <th>profitability</th>\n",
       "      <th>volume</th>\n",
       "    </tr>\n",
       "  </thead>\n",
       "  <tbody>\n",
       "    <tr>\n",
       "      <th>F</th>\n",
       "      <td>0.001045</td>\n",
       "      <td>0.970670</td>\n",
       "      <td>0.060538</td>\n",
       "      <td>41212051456</td>\n",
       "      <td>0.883188</td>\n",
       "      <td>0.052295</td>\n",
       "      <td>0.777</td>\n",
       "      <td>61107500.0</td>\n",
       "    </tr>\n",
       "    <tr>\n",
       "      <th>BAC</th>\n",
       "      <td>0.014073</td>\n",
       "      <td>1.593277</td>\n",
       "      <td>-0.098255</td>\n",
       "      <td>286537547776</td>\n",
       "      <td>0.861035</td>\n",
       "      <td>0.091795</td>\n",
       "      <td>2.810</td>\n",
       "      <td>53171900.0</td>\n",
       "    </tr>\n",
       "    <tr>\n",
       "      <th>T</th>\n",
       "      <td>0.010006</td>\n",
       "      <td>0.805692</td>\n",
       "      <td>0.061608</td>\n",
       "      <td>242585534464</td>\n",
       "      <td>0.763079</td>\n",
       "      <td>0.035058</td>\n",
       "      <td>2.653</td>\n",
       "      <td>48284700.0</td>\n",
       "    </tr>\n",
       "    <tr>\n",
       "      <th>AMD</th>\n",
       "      <td>0.010341</td>\n",
       "      <td>3.372347</td>\n",
       "      <td>0.409403</td>\n",
       "      <td>36893376512</td>\n",
       "      <td>0.048464</td>\n",
       "      <td>0.153369</td>\n",
       "      <td>0.249</td>\n",
       "      <td>41952300.0</td>\n",
       "    </tr>\n",
       "    <tr>\n",
       "      <th>FB</th>\n",
       "      <td>-0.004795</td>\n",
       "      <td>1.295606</td>\n",
       "      <td>0.036537</td>\n",
       "      <td>584199962624</td>\n",
       "      <td>0.148093</td>\n",
       "      <td>0.060735</td>\n",
       "      <td>6.738</td>\n",
       "      <td>32532500.0</td>\n",
       "    </tr>\n",
       "  </tbody>\n",
       "</table>\n",
       "</div>"
      ],
      "text/plain": [
       "      returns      beta  momentum          size     value  reversion  \\\n",
       "F    0.001045  0.970670  0.060538   41212051456  0.883188   0.052295   \n",
       "BAC  0.014073  1.593277 -0.098255  286537547776  0.861035   0.091795   \n",
       "T    0.010006  0.805692  0.061608  242585534464  0.763079   0.035058   \n",
       "AMD  0.010341  3.372347  0.409403   36893376512  0.048464   0.153369   \n",
       "FB  -0.004795  1.295606  0.036537  584199962624  0.148093   0.060735   \n",
       "\n",
       "     profitability      volume  \n",
       "F            0.777  61107500.0  \n",
       "BAC          2.810  53171900.0  \n",
       "T            2.653  48284700.0  \n",
       "AMD          0.249  41952300.0  \n",
       "FB           6.738  32532500.0  "
      ]
     },
     "execution_count": 19,
     "metadata": {},
     "output_type": "execute_result"
    }
   ],
   "source": [
    "df = compute_attribution_columns(fa.info)\n",
    "df.dropna(inplace=True)\n",
    "df = df.nlargest(500, 'volume')\n",
    "print(df.shape)\n",
    "df.head()"
   ]
  },
  {
   "cell_type": "code",
   "execution_count": 20,
   "metadata": {},
   "outputs": [],
   "source": [
    "from sklearn.linear_model import LinearRegression\n",
    "from sklearn.metrics import r2_score"
   ]
  },
  {
   "cell_type": "code",
   "execution_count": 21,
   "metadata": {},
   "outputs": [
    {
     "name": "stdout",
     "output_type": "stream",
     "text": [
      "[-0.00260067  0.00076734  0.00284694  0.00199335  0.00120269 -0.00184067]\n",
      "r-squared:  0.1000686682909776\n",
      "             y      pred\n",
      "AR   -0.083575 -0.032692\n",
      "RLGY -0.007380 -0.027240\n",
      "SM   -0.029885 -0.024577\n",
      "WLL  -0.021053 -0.019453\n",
      "CDEV -0.020870 -0.018692\n",
      "XOG  -0.082604 -0.017491\n",
      "CNX  -0.039280 -0.012770\n",
      "CC    0.023359 -0.011068\n",
      "RES  -0.027305 -0.009582\n",
      "MUR  -0.005376 -0.008057\n",
      "              y      pred\n",
      "HSY    0.021540  0.014862\n",
      "MCD    0.005302  0.015141\n",
      "KLAC  -0.001791  0.015964\n",
      "LMT   -0.002325  0.016050\n",
      "MSFT   0.008170  0.016188\n",
      "NOC   -0.006221  0.016951\n",
      "AAPL   0.003472  0.018235\n",
      "AMZN  -0.015712  0.022794\n",
      "GOOGL  0.091852  0.028464\n",
      "GOOG   0.099380  0.028598\n"
     ]
    }
   ],
   "source": [
    "df = compute_attribution_columns(fa.info)\n",
    "df.dropna(inplace=True)\n",
    "df = df.nlargest(500, 'volume')\n",
    "lm = LinearRegression()\n",
    "df[['beta', 'momentum', 'size', 'value', 'reversion', 'profitability']] = df[['beta', 'momentum', 'size', \n",
    "                                                             'value', 'reversion', 'profitability']].apply(zscore)\n",
    "\n",
    "X = df[['value', 'size', 'reversion', 'profitability', 'momentum', 'beta']]\n",
    "y = df['returns']\n",
    "lm.fit(X,y)\n",
    "print(lm.coef_)\n",
    "pred = lm.predict(X)\n",
    "print('r-squared: ', r2_score(y, pred))\n",
    "results = pd.DataFrame(data={'y':y, 'pred': pred}).sort_values(by='pred')\n",
    "print(results.head(10))\n",
    "print(results.tail(10))"
   ]
  },
  {
   "cell_type": "code",
   "execution_count": 22,
   "metadata": {},
   "outputs": [
    {
     "name": "stdout",
     "output_type": "stream",
     "text": [
      "{'pred_date': Timestamp('2019-07-26 00:00:00'), 'pred_date_str': '2019-07-26', 'prev_date': Timestamp('2019-07-23 00:00:00'), 'prev_date_str': '2019-07-23', 'analysis_date': datetime.datetime(2019, 7, 24, 0, 0), 'analysis_date_str': '2019-07-24', 'trade_date': Timestamp('2019-07-25 00:00:00'), 'trade_date_str': '2019-07-25', 'year_ago': Timestamp('2018-08-06 00:00:00'), 'year_ago_str': '2018-08-06', 'month_ago': Timestamp('2019-06-24 00:00:00'), 'month_ago_str': '2019-06-24'}\n"
     ]
    },
    {
     "data": {
      "text/plain": [
       "mkt_cap                11344606208\n",
       "beta                       1.52249\n",
       "book_value              7570801000\n",
       "sector           Consumer Cyclical\n",
       "eps                        49.8953\n",
       "month_ago                   145.93\n",
       "year_ago                    187.03\n",
       "prev_date                   153.98\n",
       "analysis_date               154.44\n",
       "trade_date                  156.36\n",
       "pred_date                   128.84\n",
       "volume                      662300\n",
       "value                     0.667348\n",
       "momentum                 -0.248142\n",
       "reversion                0.0566787\n",
       "returns                   -0.19359\n",
       "size                   11344606208\n",
       "profitability              49.8953\n",
       "Name: MHK, dtype: object"
      ]
     },
     "execution_count": 22,
     "metadata": {},
     "output_type": "execute_result"
    }
   ],
   "source": [
    "print(fa.date_sets['MHK'])\n",
    "fa.info.loc['MHK',:]"
   ]
  },
  {
   "cell_type": "code",
   "execution_count": 23,
   "metadata": {},
   "outputs": [
    {
     "data": {
      "text/html": [
       "<table class=\"simpletable\">\n",
       "<caption>OLS Regression Results</caption>\n",
       "<tr>\n",
       "  <th>Dep. Variable:</th>         <td>returns</td>     <th>  R-squared (uncentered):</th>      <td>   0.092</td>\n",
       "</tr>\n",
       "<tr>\n",
       "  <th>Model:</th>                   <td>OLS</td>       <th>  Adj. R-squared (uncentered):</th> <td>   0.081</td>\n",
       "</tr>\n",
       "<tr>\n",
       "  <th>Method:</th>             <td>Least Squares</td>  <th>  F-statistic:       </th>          <td>   8.322</td>\n",
       "</tr>\n",
       "<tr>\n",
       "  <th>Date:</th>             <td>Sat, 27 Jul 2019</td> <th>  Prob (F-statistic):</th>          <td>1.32e-08</td>\n",
       "</tr>\n",
       "<tr>\n",
       "  <th>Time:</th>                 <td>19:39:40</td>     <th>  Log-Likelihood:    </th>          <td>  1297.1</td>\n",
       "</tr>\n",
       "<tr>\n",
       "  <th>No. Observations:</th>      <td>   500</td>      <th>  AIC:               </th>          <td>  -2582.</td>\n",
       "</tr>\n",
       "<tr>\n",
       "  <th>Df Residuals:</th>          <td>   494</td>      <th>  BIC:               </th>          <td>  -2557.</td>\n",
       "</tr>\n",
       "<tr>\n",
       "  <th>Df Model:</th>              <td>     6</td>      <th>                     </th>              <td> </td>   \n",
       "</tr>\n",
       "<tr>\n",
       "  <th>Covariance Type:</th>      <td>nonrobust</td>    <th>                     </th>              <td> </td>   \n",
       "</tr>\n",
       "</table>\n",
       "<table class=\"simpletable\">\n",
       "<tr>\n",
       "        <td></td>           <th>coef</th>     <th>std err</th>      <th>t</th>      <th>P>|t|</th>  <th>[0.025</th>    <th>0.975]</th>  \n",
       "</tr>\n",
       "<tr>\n",
       "  <th>value</th>         <td>   -0.0026</td> <td>    0.001</td> <td>   -2.739</td> <td> 0.006</td> <td>   -0.004</td> <td>   -0.001</td>\n",
       "</tr>\n",
       "<tr>\n",
       "  <th>size</th>          <td>    0.0008</td> <td>    0.001</td> <td>    0.811</td> <td> 0.418</td> <td>   -0.001</td> <td>    0.003</td>\n",
       "</tr>\n",
       "<tr>\n",
       "  <th>reversion</th>     <td>    0.0028</td> <td>    0.001</td> <td>    3.315</td> <td> 0.001</td> <td>    0.001</td> <td>    0.005</td>\n",
       "</tr>\n",
       "<tr>\n",
       "  <th>profitability</th> <td>    0.0020</td> <td>    0.001</td> <td>    2.121</td> <td> 0.034</td> <td>    0.000</td> <td>    0.004</td>\n",
       "</tr>\n",
       "<tr>\n",
       "  <th>momentum</th>      <td>    0.0012</td> <td>    0.001</td> <td>    1.145</td> <td> 0.253</td> <td>   -0.001</td> <td>    0.003</td>\n",
       "</tr>\n",
       "<tr>\n",
       "  <th>beta</th>          <td>   -0.0018</td> <td>    0.001</td> <td>   -1.900</td> <td> 0.058</td> <td>   -0.004</td> <td> 6.25e-05</td>\n",
       "</tr>\n",
       "</table>\n",
       "<table class=\"simpletable\">\n",
       "<tr>\n",
       "  <th>Omnibus:</th>       <td>111.879</td> <th>  Durbin-Watson:     </th> <td>   1.856</td>\n",
       "</tr>\n",
       "<tr>\n",
       "  <th>Prob(Omnibus):</th> <td> 0.000</td>  <th>  Jarque-Bera (JB):  </th> <td>3189.476</td>\n",
       "</tr>\n",
       "<tr>\n",
       "  <th>Skew:</th>          <td>-0.046</td>  <th>  Prob(JB):          </th> <td>    0.00</td>\n",
       "</tr>\n",
       "<tr>\n",
       "  <th>Kurtosis:</th>      <td>15.373</td>  <th>  Cond. No.          </th> <td>    2.23</td>\n",
       "</tr>\n",
       "</table><br/><br/>Warnings:<br/>[1] Standard Errors assume that the covariance matrix of the errors is correctly specified."
      ],
      "text/plain": [
       "<class 'statsmodels.iolib.summary.Summary'>\n",
       "\"\"\"\n",
       "                                 OLS Regression Results                                \n",
       "=======================================================================================\n",
       "Dep. Variable:                returns   R-squared (uncentered):                   0.092\n",
       "Model:                            OLS   Adj. R-squared (uncentered):              0.081\n",
       "Method:                 Least Squares   F-statistic:                              8.322\n",
       "Date:                Sat, 27 Jul 2019   Prob (F-statistic):                    1.32e-08\n",
       "Time:                        19:39:40   Log-Likelihood:                          1297.1\n",
       "No. Observations:                 500   AIC:                                     -2582.\n",
       "Df Residuals:                     494   BIC:                                     -2557.\n",
       "Df Model:                           6                                                  \n",
       "Covariance Type:            nonrobust                                                  \n",
       "=================================================================================\n",
       "                    coef    std err          t      P>|t|      [0.025      0.975]\n",
       "---------------------------------------------------------------------------------\n",
       "value            -0.0026      0.001     -2.739      0.006      -0.004      -0.001\n",
       "size              0.0008      0.001      0.811      0.418      -0.001       0.003\n",
       "reversion         0.0028      0.001      3.315      0.001       0.001       0.005\n",
       "profitability     0.0020      0.001      2.121      0.034       0.000       0.004\n",
       "momentum          0.0012      0.001      1.145      0.253      -0.001       0.003\n",
       "beta             -0.0018      0.001     -1.900      0.058      -0.004    6.25e-05\n",
       "==============================================================================\n",
       "Omnibus:                      111.879   Durbin-Watson:                   1.856\n",
       "Prob(Omnibus):                  0.000   Jarque-Bera (JB):             3189.476\n",
       "Skew:                          -0.046   Prob(JB):                         0.00\n",
       "Kurtosis:                      15.373   Cond. No.                         2.23\n",
       "==============================================================================\n",
       "\n",
       "Warnings:\n",
       "[1] Standard Errors assume that the covariance matrix of the errors is correctly specified.\n",
       "\"\"\""
      ]
     },
     "execution_count": 23,
     "metadata": {},
     "output_type": "execute_result"
    }
   ],
   "source": [
    "import statsmodels.api as sm\n",
    "mod = sm.OLS(y,X)\n",
    "res = mod.fit()\n",
    "res.summary()"
   ]
  },
  {
   "cell_type": "code",
   "execution_count": 24,
   "metadata": {},
   "outputs": [
    {
     "name": "stderr",
     "output_type": "stream",
     "text": [
      "  5%|▍         | 45/965 [00:00<00:13, 70.60it/s]"
     ]
    },
    {
     "name": "stdout",
     "output_type": "stream",
     "text": [
      "adjusting data for ticker: FOX and this time frame: year_ago\n",
      "adjusting data for ticker: FOX and this time frame: year_ago\n"
     ]
    },
    {
     "name": "stderr",
     "output_type": "stream",
     "text": [
      " 13%|█▎        | 123/965 [00:01<00:13, 61.96it/s]"
     ]
    },
    {
     "name": "stdout",
     "output_type": "stream",
     "text": [
      "adjusting data for ticker: BMS and this time frame: prev_date\n",
      "adjusting data for ticker: BMS and this time frame: prev_date\n",
      "adjusting data for ticker: BMS and this time frame: analysis_date\n",
      "adjusting data for ticker: BMS and this time frame: analysis_date\n",
      "adjusting data for ticker: BMS and this time frame: pred_date\n",
      "adjusting data for ticker: BMS and this time frame: pred_date\n",
      "adjusting data for ticker: BMS and this time frame: analysis_date\n",
      "adjusting data for ticker: BMS and this time frame: analysis_date\n"
     ]
    },
    {
     "name": "stderr",
     "output_type": "stream",
     "text": [
      " 24%|██▍       | 230/965 [00:03<00:10, 66.87it/s]"
     ]
    },
    {
     "name": "stdout",
     "output_type": "stream",
     "text": [
      "adjusting data for ticker: FTDR and this time frame: year_ago\n",
      "adjusting data for ticker: FTDR and this time frame: year_ago\n"
     ]
    },
    {
     "name": "stderr",
     "output_type": "stream",
     "text": [
      " 40%|███▉      | 385/965 [00:05<00:09, 63.32it/s]"
     ]
    },
    {
     "name": "stdout",
     "output_type": "stream",
     "text": [
      "adjusting data for ticker: ESTC and this time frame: year_ago\n",
      "adjusting data for ticker: ESTC and this time frame: year_ago\n",
      "adjusting data for ticker: REZI and this time frame: year_ago\n",
      "adjusting data for ticker: REZI and this time frame: year_ago\n"
     ]
    },
    {
     "name": "stderr",
     "output_type": "stream",
     "text": [
      " 53%|█████▎    | 513/965 [00:07<00:06, 72.67it/s]"
     ]
    },
    {
     "name": "stdout",
     "output_type": "stream",
     "text": [
      "adjusting data for ticker: ACA and this time frame: year_ago\n",
      "adjusting data for ticker: ACA and this time frame: year_ago\n"
     ]
    },
    {
     "name": "stderr",
     "output_type": "stream",
     "text": [
      " 56%|█████▌    | 537/965 [00:08<00:06, 70.41it/s]"
     ]
    },
    {
     "name": "stdout",
     "output_type": "stream",
     "text": [
      "adjusting data for ticker: KTB and this time frame: year_ago\n",
      "adjusting data for ticker: KTB and this time frame: year_ago\n"
     ]
    },
    {
     "name": "stderr",
     "output_type": "stream",
     "text": [
      " 57%|█████▋    | 553/965 [00:08<00:05, 69.92it/s]"
     ]
    },
    {
     "name": "stdout",
     "output_type": "stream",
     "text": [
      "adjusting data for ticker: GTX and this time frame: year_ago\n",
      "adjusting data for ticker: GTX and this time frame: year_ago\n"
     ]
    },
    {
     "name": "stderr",
     "output_type": "stream",
     "text": [
      " 64%|██████▍   | 618/965 [00:09<00:05, 60.52it/s]"
     ]
    },
    {
     "name": "stdout",
     "output_type": "stream",
     "text": [
      "adjusting data for ticker: ELAN and this time frame: year_ago\n",
      "adjusting data for ticker: ELAN and this time frame: year_ago\n"
     ]
    },
    {
     "name": "stderr",
     "output_type": "stream",
     "text": [
      " 66%|██████▌   | 637/965 [00:09<00:05, 56.86it/s]"
     ]
    },
    {
     "name": "stdout",
     "output_type": "stream",
     "text": [
      "adjusting data for ticker: MRNA and this time frame: year_ago\n",
      "adjusting data for ticker: MRNA and this time frame: year_ago\n"
     ]
    },
    {
     "name": "stderr",
     "output_type": "stream",
     "text": [
      " 68%|██████▊   | 661/965 [00:10<00:04, 65.60it/s]"
     ]
    },
    {
     "name": "stdout",
     "output_type": "stream",
     "text": [
      "adjusting data for ticker: BPR and this time frame: year_ago\n",
      "adjusting data for ticker: BPR and this time frame: year_ago\n"
     ]
    },
    {
     "name": "stderr",
     "output_type": "stream",
     "text": [
      " 72%|███████▏  | 698/965 [00:10<00:03, 67.97it/s]"
     ]
    },
    {
     "name": "stdout",
     "output_type": "stream",
     "text": [
      "adjusting data for ticker: LGF.B and this time frame: month_ago\n",
      "adjusting data for ticker: LGF.B and this time frame: month_ago\n",
      "adjusting data for ticker: LGF.B and this time frame: year_ago\n",
      "adjusting data for ticker: LGF.B and this time frame: year_ago\n",
      "adjusting data for ticker: LGF.B and this time frame: prev_date\n",
      "adjusting data for ticker: LGF.B and this time frame: prev_date\n",
      "adjusting data for ticker: LGF.B and this time frame: analysis_date\n",
      "adjusting data for ticker: LGF.B and this time frame: analysis_date\n",
      "adjusting data for ticker: LGF.B and this time frame: pred_date\n",
      "adjusting data for ticker: LGF.B and this time frame: pred_date\n",
      "adjusting data for ticker: LGF.B and this time frame: analysis_date\n",
      "adjusting data for ticker: LGF.B and this time frame: analysis_date\n",
      "adjusting data for ticker: ETRN and this time frame: year_ago\n",
      "adjusting data for ticker: ETRN and this time frame: year_ago\n",
      "adjusting data for ticker: FOXA and this time frame: year_ago\n",
      "adjusting data for ticker: FOXA and this time frame: year_ago\n"
     ]
    },
    {
     "name": "stderr",
     "output_type": "stream",
     "text": [
      " 81%|████████  | 782/965 [00:12<00:03, 58.72it/s]"
     ]
    },
    {
     "name": "stdout",
     "output_type": "stream",
     "text": [
      "adjusting data for ticker: CVET and this time frame: year_ago\n",
      "adjusting data for ticker: CVET and this time frame: year_ago\n"
     ]
    },
    {
     "name": "stderr",
     "output_type": "stream",
     "text": [
      " 93%|█████████▎| 896/965 [00:13<00:00, 69.51it/s]"
     ]
    },
    {
     "name": "stdout",
     "output_type": "stream",
     "text": [
      "adjusting data for ticker: SWI and this time frame: year_ago\n",
      "adjusting data for ticker: SWI and this time frame: year_ago\n"
     ]
    },
    {
     "name": "stderr",
     "output_type": "stream",
     "text": [
      " 98%|█████████▊| 950/965 [00:14<00:00, 68.20it/s]"
     ]
    },
    {
     "name": "stdout",
     "output_type": "stream",
     "text": [
      "adjusting data for ticker: DOW and this time frame: year_ago\n",
      "adjusting data for ticker: DOW and this time frame: year_ago\n"
     ]
    },
    {
     "name": "stderr",
     "output_type": "stream",
     "text": [
      "100%|██████████| 965/965 [00:14<00:00, 65.04it/s]"
     ]
    },
    {
     "name": "stdout",
     "output_type": "stream",
     "text": [
      "           mkt_cap      beta   book_value              sector     eps  \\\n",
      "CSCO  247040933888  1.028849  36804000000          Technology   2.882   \n",
      "SITC    2451814656  0.870377   1524945000         Real Estate   0.922   \n",
      "UAL    24389509120  1.278593  10320000000         Industrials   9.838   \n",
      "TROW   26137581568  1.029243   6311000000  Financial Services   7.586   \n",
      "ISRG   62087315456  1.289684   7279600000          Healthcare  10.129   \n",
      "\n",
      "       month_ago    year_ago   prev_date  analysis_date  trade_date  \\\n",
      "CSCO   57.049965   41.394825   57.360001      57.730000   57.709999   \n",
      "SITC   13.750000   13.670000   13.010000      13.070000   13.580000   \n",
      "UAL    87.139999   80.849998   93.830002      93.830002   94.930000   \n",
      "TROW  109.589996  114.130890  108.470001     108.870003  110.529999   \n",
      "ISRG  533.049988  521.900024  528.809998     535.500000  537.789978   \n",
      "\n",
      "       pred_date      volume  \n",
      "CSCO   57.230000  10485600.0  \n",
      "SITC   13.790000    740144.0  \n",
      "UAL    95.110001   2305100.0  \n",
      "TROW  113.269997    937900.0  \n",
      "ISRG  543.039978    654200.0  \n"
     ]
    },
    {
     "name": "stderr",
     "output_type": "stream",
     "text": [
      "\n"
     ]
    }
   ],
   "source": [
    "# testing a portfolio from prev_date\n",
    "past_fa = FactorAttribution(analysis_date_str='2019-07-22')\n",
    "past_fa.run_attribution()"
   ]
  },
  {
   "cell_type": "code",
   "execution_count": 25,
   "metadata": {},
   "outputs": [
    {
     "data": {
      "text/html": [
       "<div>\n",
       "<style scoped>\n",
       "    .dataframe tbody tr th:only-of-type {\n",
       "        vertical-align: middle;\n",
       "    }\n",
       "\n",
       "    .dataframe tbody tr th {\n",
       "        vertical-align: top;\n",
       "    }\n",
       "\n",
       "    .dataframe thead th {\n",
       "        text-align: right;\n",
       "    }\n",
       "</style>\n",
       "<table border=\"1\" class=\"dataframe\">\n",
       "  <thead>\n",
       "    <tr style=\"text-align: right;\">\n",
       "      <th></th>\n",
       "      <th>mkt_cap</th>\n",
       "      <th>beta</th>\n",
       "      <th>book_value</th>\n",
       "      <th>sector</th>\n",
       "      <th>eps</th>\n",
       "      <th>month_ago</th>\n",
       "      <th>year_ago</th>\n",
       "      <th>prev_date</th>\n",
       "      <th>analysis_date</th>\n",
       "      <th>trade_date</th>\n",
       "      <th>pred_date</th>\n",
       "      <th>volume</th>\n",
       "    </tr>\n",
       "  </thead>\n",
       "  <tbody>\n",
       "    <tr>\n",
       "      <th>CSCO</th>\n",
       "      <td>247040933888</td>\n",
       "      <td>1.028849</td>\n",
       "      <td>36804000000</td>\n",
       "      <td>Technology</td>\n",
       "      <td>2.882</td>\n",
       "      <td>57.049965</td>\n",
       "      <td>41.394825</td>\n",
       "      <td>57.360001</td>\n",
       "      <td>57.730000</td>\n",
       "      <td>57.709999</td>\n",
       "      <td>57.230000</td>\n",
       "      <td>10485600.0</td>\n",
       "    </tr>\n",
       "    <tr>\n",
       "      <th>SITC</th>\n",
       "      <td>2451814656</td>\n",
       "      <td>0.870377</td>\n",
       "      <td>1524945000</td>\n",
       "      <td>Real Estate</td>\n",
       "      <td>0.922</td>\n",
       "      <td>13.750000</td>\n",
       "      <td>13.670000</td>\n",
       "      <td>13.010000</td>\n",
       "      <td>13.070000</td>\n",
       "      <td>13.580000</td>\n",
       "      <td>13.790000</td>\n",
       "      <td>740144.0</td>\n",
       "    </tr>\n",
       "    <tr>\n",
       "      <th>UAL</th>\n",
       "      <td>24389509120</td>\n",
       "      <td>1.278593</td>\n",
       "      <td>10320000000</td>\n",
       "      <td>Industrials</td>\n",
       "      <td>9.838</td>\n",
       "      <td>87.139999</td>\n",
       "      <td>80.849998</td>\n",
       "      <td>93.830002</td>\n",
       "      <td>93.830002</td>\n",
       "      <td>94.930000</td>\n",
       "      <td>95.110001</td>\n",
       "      <td>2305100.0</td>\n",
       "    </tr>\n",
       "    <tr>\n",
       "      <th>TROW</th>\n",
       "      <td>26137581568</td>\n",
       "      <td>1.029243</td>\n",
       "      <td>6311000000</td>\n",
       "      <td>Financial Services</td>\n",
       "      <td>7.586</td>\n",
       "      <td>109.589996</td>\n",
       "      <td>114.130890</td>\n",
       "      <td>108.470001</td>\n",
       "      <td>108.870003</td>\n",
       "      <td>110.529999</td>\n",
       "      <td>113.269997</td>\n",
       "      <td>937900.0</td>\n",
       "    </tr>\n",
       "    <tr>\n",
       "      <th>ISRG</th>\n",
       "      <td>62087315456</td>\n",
       "      <td>1.289684</td>\n",
       "      <td>7279600000</td>\n",
       "      <td>Healthcare</td>\n",
       "      <td>10.129</td>\n",
       "      <td>533.049988</td>\n",
       "      <td>521.900024</td>\n",
       "      <td>528.809998</td>\n",
       "      <td>535.500000</td>\n",
       "      <td>537.789978</td>\n",
       "      <td>543.039978</td>\n",
       "      <td>654200.0</td>\n",
       "    </tr>\n",
       "  </tbody>\n",
       "</table>\n",
       "</div>"
      ],
      "text/plain": [
       "           mkt_cap      beta   book_value              sector     eps  \\\n",
       "CSCO  247040933888  1.028849  36804000000          Technology   2.882   \n",
       "SITC    2451814656  0.870377   1524945000         Real Estate   0.922   \n",
       "UAL    24389509120  1.278593  10320000000         Industrials   9.838   \n",
       "TROW   26137581568  1.029243   6311000000  Financial Services   7.586   \n",
       "ISRG   62087315456  1.289684   7279600000          Healthcare  10.129   \n",
       "\n",
       "       month_ago    year_ago   prev_date  analysis_date  trade_date  \\\n",
       "CSCO   57.049965   41.394825   57.360001      57.730000   57.709999   \n",
       "SITC   13.750000   13.670000   13.010000      13.070000   13.580000   \n",
       "UAL    87.139999   80.849998   93.830002      93.830002   94.930000   \n",
       "TROW  109.589996  114.130890  108.470001     108.870003  110.529999   \n",
       "ISRG  533.049988  521.900024  528.809998     535.500000  537.789978   \n",
       "\n",
       "       pred_date      volume  \n",
       "CSCO   57.230000  10485600.0  \n",
       "SITC   13.790000    740144.0  \n",
       "UAL    95.110001   2305100.0  \n",
       "TROW  113.269997    937900.0  \n",
       "ISRG  543.039978    654200.0  "
      ]
     },
     "execution_count": 25,
     "metadata": {},
     "output_type": "execute_result"
    }
   ],
   "source": [
    "past_fa.info.head()"
   ]
  },
  {
   "cell_type": "code",
   "execution_count": 26,
   "metadata": {},
   "outputs": [
    {
     "name": "stdout",
     "output_type": "stream",
     "text": [
      "pred_date_str: 2019-07-24\n",
      "\n",
      "prev_date_str: 2019-07-19\n",
      "\n",
      "analysis_date_str: 2019-07-22\n",
      "\n",
      "trade_date_str: 2019-07-23\n",
      "\n",
      "year_ago_str: 2018-08-02\n",
      "\n",
      "month_ago_str: 2019-06-20\n",
      "\n"
     ]
    }
   ],
   "source": [
    "for key, value in past_fa.date_sets['CSCO'].items():\n",
    "    if '_str' in key:\n",
    "        print('{}: {}\\n'.format(key, value))"
   ]
  },
  {
   "cell_type": "code",
   "execution_count": 48,
   "metadata": {},
   "outputs": [
    {
     "name": "stdout",
     "output_type": "stream",
     "text": [
      "SLM    -0.032692\n",
      "KO     -0.027240\n",
      "HLF    -0.024577\n",
      "LOW    -0.019453\n",
      "STLD   -0.018692\n",
      "dtype: float64\n"
     ]
    }
   ],
   "source": [
    "stocks_to_trade = 200\n",
    "per_side = int(stocks_to_trade/2)\n",
    "past_df = compute_attribution_columns(past_fa.info)\n",
    "past_df.dropna(inplace=True)\n",
    "past_df = past_df.nlargest(500, 'volume')\n",
    "past_df.head()\n",
    "\n",
    "lm_2 = LinearRegression()\n",
    "past_df[['beta', 'momentum', 'size', 'value', 'reversion', 'profitability']] = past_df[['beta', 'momentum', 'size', \n",
    "                                                              'value', 'reversion', 'profitability']].apply(zscore)\n",
    "\n",
    "X_past = past_df[['value', 'size', 'reversion', 'profitability', 'momentum', 'beta']]\n",
    "y_past = past_df['returns']\n",
    "lm_2.fit(X_past,y_past)\n",
    "pred_past = lm.predict(X)\n",
    "ser = pd.Series(data=pred_past, index=past_df.index).sort_values()\n",
    "print(ser.head())\n",
    "\n",
    "short_tickers = ser[0:per_side].index\n",
    "long_tickers = ser[-per_side:].index\n"
   ]
  },
  {
   "cell_type": "code",
   "execution_count": 49,
   "metadata": {},
   "outputs": [],
   "source": [
    "def compute_new_columns(df, short_tickers, long_tickers):\n",
    "    new_index = short_tickers.union(long_tickers)\n",
    "    df = df.loc[new_index].copy()\n",
    "    df['returns'] = np.log(df['pred_date'] / df['trade_date'])\n",
    "    df['invested'] = 1000.0\n",
    "    df.loc[short_tickers, 'invested'] = -1000.0\n",
    "    df['pl'] = df['invested'] * df['returns']\n",
    "    return df[['pred_date', 'trade_date', 'returns', 'invested', 'pl']]"
   ]
  },
  {
   "cell_type": "code",
   "execution_count": 50,
   "metadata": {},
   "outputs": [
    {
     "name": "stdout",
     "output_type": "stream",
     "text": [
      "this is long p&l:  567.2477185355632\n",
      "this is short p&l:  -709.3558598703479\n",
      "return percentage = -0.07%\n"
     ]
    }
   ],
   "source": [
    "new = compute_new_columns(fa.info, short_tickers, long_tickers)\n",
    "pl = new['pl'].sum()\n",
    "long_return = new.loc[long_tickers, 'pl'].sum()\n",
    "short_return = new.loc[short_tickers, 'pl'].sum()\n",
    "print('this is long p&l: ', long_return)\n",
    "print('this is short p&l: ', short_return)\n",
    "print(f'return percentage = {100 *(long_return + short_return) / (stocks_to_trade*1000):.2f}%')"
   ]
  },
  {
   "cell_type": "code",
   "execution_count": 52,
   "metadata": {},
   "outputs": [
    {
     "data": {
      "text/html": [
       "<div>\n",
       "<style scoped>\n",
       "    .dataframe tbody tr th:only-of-type {\n",
       "        vertical-align: middle;\n",
       "    }\n",
       "\n",
       "    .dataframe tbody tr th {\n",
       "        vertical-align: top;\n",
       "    }\n",
       "\n",
       "    .dataframe thead th {\n",
       "        text-align: right;\n",
       "    }\n",
       "</style>\n",
       "<table border=\"1\" class=\"dataframe\">\n",
       "  <thead>\n",
       "    <tr style=\"text-align: right;\">\n",
       "      <th></th>\n",
       "      <th>pred_date</th>\n",
       "      <th>trade_date</th>\n",
       "      <th>returns</th>\n",
       "      <th>invested</th>\n",
       "      <th>pl</th>\n",
       "    </tr>\n",
       "  </thead>\n",
       "  <tbody>\n",
       "    <tr>\n",
       "      <th>GT</th>\n",
       "      <td>14.160000</td>\n",
       "      <td>14.950000</td>\n",
       "      <td>-0.054290</td>\n",
       "      <td>-1000.0</td>\n",
       "      <td>54.290210</td>\n",
       "    </tr>\n",
       "    <tr>\n",
       "      <th>CNX</th>\n",
       "      <td>6.490000</td>\n",
       "      <td>6.750000</td>\n",
       "      <td>-0.039280</td>\n",
       "      <td>-1000.0</td>\n",
       "      <td>39.280009</td>\n",
       "    </tr>\n",
       "    <tr>\n",
       "      <th>BWA</th>\n",
       "      <td>39.160000</td>\n",
       "      <td>40.570000</td>\n",
       "      <td>-0.035373</td>\n",
       "      <td>1000.0</td>\n",
       "      <td>-35.373056</td>\n",
       "    </tr>\n",
       "    <tr>\n",
       "      <th>LUV</th>\n",
       "      <td>53.250000</td>\n",
       "      <td>54.910000</td>\n",
       "      <td>-0.030698</td>\n",
       "      <td>-1000.0</td>\n",
       "      <td>30.697674</td>\n",
       "    </tr>\n",
       "    <tr>\n",
       "      <th>SM</th>\n",
       "      <td>9.230000</td>\n",
       "      <td>9.510000</td>\n",
       "      <td>-0.029885</td>\n",
       "      <td>1000.0</td>\n",
       "      <td>-29.884902</td>\n",
       "    </tr>\n",
       "    <tr>\n",
       "      <th>RES</th>\n",
       "      <td>5.780000</td>\n",
       "      <td>5.940000</td>\n",
       "      <td>-0.027305</td>\n",
       "      <td>-1000.0</td>\n",
       "      <td>27.305424</td>\n",
       "    </tr>\n",
       "    <tr>\n",
       "      <th>OC</th>\n",
       "      <td>58.099998</td>\n",
       "      <td>59.500000</td>\n",
       "      <td>-0.023811</td>\n",
       "      <td>1000.0</td>\n",
       "      <td>-23.810675</td>\n",
       "    </tr>\n",
       "    <tr>\n",
       "      <th>MMM</th>\n",
       "      <td>173.979996</td>\n",
       "      <td>178.130005</td>\n",
       "      <td>-0.023573</td>\n",
       "      <td>-1000.0</td>\n",
       "      <td>23.573323</td>\n",
       "    </tr>\n",
       "    <tr>\n",
       "      <th>WLL</th>\n",
       "      <td>15.980000</td>\n",
       "      <td>16.320000</td>\n",
       "      <td>-0.021053</td>\n",
       "      <td>1000.0</td>\n",
       "      <td>-21.053419</td>\n",
       "    </tr>\n",
       "    <tr>\n",
       "      <th>CDEV</th>\n",
       "      <td>5.690000</td>\n",
       "      <td>5.810000</td>\n",
       "      <td>-0.020870</td>\n",
       "      <td>1000.0</td>\n",
       "      <td>-20.870303</td>\n",
       "    </tr>\n",
       "    <tr>\n",
       "      <th>ITW</th>\n",
       "      <td>155.630005</td>\n",
       "      <td>158.639999</td>\n",
       "      <td>-0.019156</td>\n",
       "      <td>1000.0</td>\n",
       "      <td>-19.156054</td>\n",
       "    </tr>\n",
       "    <tr>\n",
       "      <th>VRTX</th>\n",
       "      <td>166.830002</td>\n",
       "      <td>169.559998</td>\n",
       "      <td>-0.016231</td>\n",
       "      <td>1000.0</td>\n",
       "      <td>-16.231491</td>\n",
       "    </tr>\n",
       "    <tr>\n",
       "      <th>CVX</th>\n",
       "      <td>123.720001</td>\n",
       "      <td>125.629997</td>\n",
       "      <td>-0.015320</td>\n",
       "      <td>-1000.0</td>\n",
       "      <td>15.320099</td>\n",
       "    </tr>\n",
       "    <tr>\n",
       "      <th>RTN</th>\n",
       "      <td>189.789993</td>\n",
       "      <td>192.630005</td>\n",
       "      <td>-0.014853</td>\n",
       "      <td>1000.0</td>\n",
       "      <td>-14.853113</td>\n",
       "    </tr>\n",
       "    <tr>\n",
       "      <th>TSCO</th>\n",
       "      <td>109.949997</td>\n",
       "      <td>111.470001</td>\n",
       "      <td>-0.013730</td>\n",
       "      <td>1000.0</td>\n",
       "      <td>-13.729818</td>\n",
       "    </tr>\n",
       "    <tr>\n",
       "      <th>INTC</th>\n",
       "      <td>51.590000</td>\n",
       "      <td>52.160000</td>\n",
       "      <td>-0.010988</td>\n",
       "      <td>1000.0</td>\n",
       "      <td>-10.988056</td>\n",
       "    </tr>\n",
       "    <tr>\n",
       "      <th>BA</th>\n",
       "      <td>345.000000</td>\n",
       "      <td>348.089996</td>\n",
       "      <td>-0.008917</td>\n",
       "      <td>-1000.0</td>\n",
       "      <td>8.916639</td>\n",
       "    </tr>\n",
       "    <tr>\n",
       "      <th>WDC</th>\n",
       "      <td>56.500000</td>\n",
       "      <td>56.970001</td>\n",
       "      <td>-0.008284</td>\n",
       "      <td>-1000.0</td>\n",
       "      <td>8.284197</td>\n",
       "    </tr>\n",
       "    <tr>\n",
       "      <th>HAL</th>\n",
       "      <td>23.030001</td>\n",
       "      <td>23.219999</td>\n",
       "      <td>-0.008216</td>\n",
       "      <td>1000.0</td>\n",
       "      <td>-8.216203</td>\n",
       "    </tr>\n",
       "    <tr>\n",
       "      <th>VFC</th>\n",
       "      <td>88.610001</td>\n",
       "      <td>89.339996</td>\n",
       "      <td>-0.008205</td>\n",
       "      <td>1000.0</td>\n",
       "      <td>-8.204550</td>\n",
       "    </tr>\n",
       "    <tr>\n",
       "      <th>CSX</th>\n",
       "      <td>68.959999</td>\n",
       "      <td>69.500000</td>\n",
       "      <td>-0.007800</td>\n",
       "      <td>-1000.0</td>\n",
       "      <td>7.800139</td>\n",
       "    </tr>\n",
       "    <tr>\n",
       "      <th>VST</th>\n",
       "      <td>21.750000</td>\n",
       "      <td>21.920000</td>\n",
       "      <td>-0.007786</td>\n",
       "      <td>1000.0</td>\n",
       "      <td>-7.785708</td>\n",
       "    </tr>\n",
       "    <tr>\n",
       "      <th>VTR</th>\n",
       "      <td>67.029999</td>\n",
       "      <td>67.489998</td>\n",
       "      <td>-0.006839</td>\n",
       "      <td>1000.0</td>\n",
       "      <td>-6.839145</td>\n",
       "    </tr>\n",
       "    <tr>\n",
       "      <th>PE</th>\n",
       "      <td>16.110001</td>\n",
       "      <td>16.219999</td>\n",
       "      <td>-0.006805</td>\n",
       "      <td>-1000.0</td>\n",
       "      <td>6.804771</td>\n",
       "    </tr>\n",
       "    <tr>\n",
       "      <th>DHR</th>\n",
       "      <td>142.279999</td>\n",
       "      <td>143.210007</td>\n",
       "      <td>-0.006515</td>\n",
       "      <td>-1000.0</td>\n",
       "      <td>6.515193</td>\n",
       "    </tr>\n",
       "    <tr>\n",
       "      <th>DPZ</th>\n",
       "      <td>259.059998</td>\n",
       "      <td>260.670013</td>\n",
       "      <td>-0.006196</td>\n",
       "      <td>1000.0</td>\n",
       "      <td>-6.195605</td>\n",
       "    </tr>\n",
       "    <tr>\n",
       "      <th>TOL</th>\n",
       "      <td>35.520000</td>\n",
       "      <td>35.740002</td>\n",
       "      <td>-0.006175</td>\n",
       "      <td>1000.0</td>\n",
       "      <td>-6.174626</td>\n",
       "    </tr>\n",
       "    <tr>\n",
       "      <th>X</th>\n",
       "      <td>15.190000</td>\n",
       "      <td>15.280000</td>\n",
       "      <td>-0.005907</td>\n",
       "      <td>-1000.0</td>\n",
       "      <td>5.907477</td>\n",
       "    </tr>\n",
       "    <tr>\n",
       "      <th>COP</th>\n",
       "      <td>58.750000</td>\n",
       "      <td>59.040001</td>\n",
       "      <td>-0.004924</td>\n",
       "      <td>1000.0</td>\n",
       "      <td>-4.924043</td>\n",
       "    </tr>\n",
       "    <tr>\n",
       "      <th>FB</th>\n",
       "      <td>199.750000</td>\n",
       "      <td>200.710007</td>\n",
       "      <td>-0.004795</td>\n",
       "      <td>1000.0</td>\n",
       "      <td>-4.794529</td>\n",
       "    </tr>\n",
       "    <tr>\n",
       "      <th>...</th>\n",
       "      <td>...</td>\n",
       "      <td>...</td>\n",
       "      <td>...</td>\n",
       "      <td>...</td>\n",
       "      <td>...</td>\n",
       "    </tr>\n",
       "    <tr>\n",
       "      <th>KR</th>\n",
       "      <td>21.480000</td>\n",
       "      <td>21.139999</td>\n",
       "      <td>0.015955</td>\n",
       "      <td>1000.0</td>\n",
       "      <td>15.955297</td>\n",
       "    </tr>\n",
       "    <tr>\n",
       "      <th>MNST</th>\n",
       "      <td>65.199997</td>\n",
       "      <td>64.160004</td>\n",
       "      <td>0.016079</td>\n",
       "      <td>1000.0</td>\n",
       "      <td>16.079401</td>\n",
       "    </tr>\n",
       "    <tr>\n",
       "      <th>FITB</th>\n",
       "      <td>30.040001</td>\n",
       "      <td>29.559999</td>\n",
       "      <td>0.016108</td>\n",
       "      <td>-1000.0</td>\n",
       "      <td>-16.107779</td>\n",
       "    </tr>\n",
       "    <tr>\n",
       "      <th>ABBV</th>\n",
       "      <td>67.760002</td>\n",
       "      <td>66.660004</td>\n",
       "      <td>0.016367</td>\n",
       "      <td>-1000.0</td>\n",
       "      <td>-16.366954</td>\n",
       "    </tr>\n",
       "    <tr>\n",
       "      <th>ALK</th>\n",
       "      <td>64.919998</td>\n",
       "      <td>63.860001</td>\n",
       "      <td>0.016463</td>\n",
       "      <td>1000.0</td>\n",
       "      <td>16.462518</td>\n",
       "    </tr>\n",
       "    <tr>\n",
       "      <th>UNH</th>\n",
       "      <td>252.940002</td>\n",
       "      <td>248.699997</td>\n",
       "      <td>0.016905</td>\n",
       "      <td>1000.0</td>\n",
       "      <td>16.904978</td>\n",
       "    </tr>\n",
       "    <tr>\n",
       "      <th>CFG</th>\n",
       "      <td>37.680000</td>\n",
       "      <td>37.020000</td>\n",
       "      <td>0.017671</td>\n",
       "      <td>-1000.0</td>\n",
       "      <td>-17.671138</td>\n",
       "    </tr>\n",
       "    <tr>\n",
       "      <th>USFD</th>\n",
       "      <td>35.619999</td>\n",
       "      <td>34.950001</td>\n",
       "      <td>0.018989</td>\n",
       "      <td>-1000.0</td>\n",
       "      <td>-18.988757</td>\n",
       "    </tr>\n",
       "    <tr>\n",
       "      <th>DRI</th>\n",
       "      <td>125.959999</td>\n",
       "      <td>123.589996</td>\n",
       "      <td>0.018995</td>\n",
       "      <td>1000.0</td>\n",
       "      <td>18.994783</td>\n",
       "    </tr>\n",
       "    <tr>\n",
       "      <th>UPS</th>\n",
       "      <td>120.580002</td>\n",
       "      <td>118.250000</td>\n",
       "      <td>0.019512</td>\n",
       "      <td>-1000.0</td>\n",
       "      <td>-19.512421</td>\n",
       "    </tr>\n",
       "    <tr>\n",
       "      <th>QRTEA</th>\n",
       "      <td>13.960000</td>\n",
       "      <td>13.680000</td>\n",
       "      <td>0.020261</td>\n",
       "      <td>-1000.0</td>\n",
       "      <td>-20.261166</td>\n",
       "    </tr>\n",
       "    <tr>\n",
       "      <th>ANTM</th>\n",
       "      <td>299.980011</td>\n",
       "      <td>293.950012</td>\n",
       "      <td>0.020306</td>\n",
       "      <td>1000.0</td>\n",
       "      <td>20.306116</td>\n",
       "    </tr>\n",
       "    <tr>\n",
       "      <th>KMX</th>\n",
       "      <td>91.169998</td>\n",
       "      <td>89.330002</td>\n",
       "      <td>0.020388</td>\n",
       "      <td>-1000.0</td>\n",
       "      <td>-20.388477</td>\n",
       "    </tr>\n",
       "    <tr>\n",
       "      <th>KO</th>\n",
       "      <td>54.169998</td>\n",
       "      <td>53.070000</td>\n",
       "      <td>0.020515</td>\n",
       "      <td>-1000.0</td>\n",
       "      <td>-20.515425</td>\n",
       "    </tr>\n",
       "    <tr>\n",
       "      <th>DE</th>\n",
       "      <td>170.389999</td>\n",
       "      <td>166.910004</td>\n",
       "      <td>0.020635</td>\n",
       "      <td>1000.0</td>\n",
       "      <td>20.635157</td>\n",
       "    </tr>\n",
       "    <tr>\n",
       "      <th>COF</th>\n",
       "      <td>98.080002</td>\n",
       "      <td>95.900002</td>\n",
       "      <td>0.022477</td>\n",
       "      <td>-1000.0</td>\n",
       "      <td>-22.477493</td>\n",
       "    </tr>\n",
       "    <tr>\n",
       "      <th>FIS</th>\n",
       "      <td>135.610001</td>\n",
       "      <td>132.479996</td>\n",
       "      <td>0.023351</td>\n",
       "      <td>1000.0</td>\n",
       "      <td>23.351465</td>\n",
       "    </tr>\n",
       "    <tr>\n",
       "      <th>EWBC</th>\n",
       "      <td>49.080002</td>\n",
       "      <td>47.939999</td>\n",
       "      <td>0.023501</td>\n",
       "      <td>1000.0</td>\n",
       "      <td>23.501457</td>\n",
       "    </tr>\n",
       "    <tr>\n",
       "      <th>SSNC</th>\n",
       "      <td>60.490002</td>\n",
       "      <td>59.049999</td>\n",
       "      <td>0.024094</td>\n",
       "      <td>-1000.0</td>\n",
       "      <td>-24.093560</td>\n",
       "    </tr>\n",
       "    <tr>\n",
       "      <th>CNC</th>\n",
       "      <td>53.419998</td>\n",
       "      <td>52.130001</td>\n",
       "      <td>0.024445</td>\n",
       "      <td>1000.0</td>\n",
       "      <td>24.444554</td>\n",
       "    </tr>\n",
       "    <tr>\n",
       "      <th>SIX</th>\n",
       "      <td>52.099998</td>\n",
       "      <td>50.810001</td>\n",
       "      <td>0.025072</td>\n",
       "      <td>1000.0</td>\n",
       "      <td>25.071707</td>\n",
       "    </tr>\n",
       "    <tr>\n",
       "      <th>TSS</th>\n",
       "      <td>136.610001</td>\n",
       "      <td>133.169998</td>\n",
       "      <td>0.025504</td>\n",
       "      <td>-1000.0</td>\n",
       "      <td>-25.503662</td>\n",
       "    </tr>\n",
       "    <tr>\n",
       "      <th>HLF</th>\n",
       "      <td>41.520000</td>\n",
       "      <td>40.259998</td>\n",
       "      <td>0.030817</td>\n",
       "      <td>-1000.0</td>\n",
       "      <td>-30.816871</td>\n",
       "    </tr>\n",
       "    <tr>\n",
       "      <th>NKTR</th>\n",
       "      <td>31.120001</td>\n",
       "      <td>29.990000</td>\n",
       "      <td>0.036987</td>\n",
       "      <td>1000.0</td>\n",
       "      <td>36.986741</td>\n",
       "    </tr>\n",
       "    <tr>\n",
       "      <th>WY</th>\n",
       "      <td>26.209999</td>\n",
       "      <td>25.070000</td>\n",
       "      <td>0.044469</td>\n",
       "      <td>-1000.0</td>\n",
       "      <td>-44.469082</td>\n",
       "    </tr>\n",
       "    <tr>\n",
       "      <th>FISV</th>\n",
       "      <td>102.300003</td>\n",
       "      <td>96.360001</td>\n",
       "      <td>0.059819</td>\n",
       "      <td>-1000.0</td>\n",
       "      <td>-59.818519</td>\n",
       "    </tr>\n",
       "    <tr>\n",
       "      <th>TWTR</th>\n",
       "      <td>41.520000</td>\n",
       "      <td>38.119999</td>\n",
       "      <td>0.085436</td>\n",
       "      <td>-1000.0</td>\n",
       "      <td>-85.436199</td>\n",
       "    </tr>\n",
       "    <tr>\n",
       "      <th>SBUX</th>\n",
       "      <td>99.110001</td>\n",
       "      <td>90.980003</td>\n",
       "      <td>0.085591</td>\n",
       "      <td>1000.0</td>\n",
       "      <td>85.590612</td>\n",
       "    </tr>\n",
       "    <tr>\n",
       "      <th>GOOGL</th>\n",
       "      <td>1245.219971</td>\n",
       "      <td>1135.939941</td>\n",
       "      <td>0.091852</td>\n",
       "      <td>-1000.0</td>\n",
       "      <td>-91.851747</td>\n",
       "    </tr>\n",
       "    <tr>\n",
       "      <th>GOOG</th>\n",
       "      <td>1250.410034</td>\n",
       "      <td>1132.119995</td>\n",
       "      <td>0.099380</td>\n",
       "      <td>1000.0</td>\n",
       "      <td>99.379548</td>\n",
       "    </tr>\n",
       "  </tbody>\n",
       "</table>\n",
       "<p>200 rows × 5 columns</p>\n",
       "</div>"
      ],
      "text/plain": [
       "         pred_date   trade_date   returns  invested         pl\n",
       "GT       14.160000    14.950000 -0.054290   -1000.0  54.290210\n",
       "CNX       6.490000     6.750000 -0.039280   -1000.0  39.280009\n",
       "BWA      39.160000    40.570000 -0.035373    1000.0 -35.373056\n",
       "LUV      53.250000    54.910000 -0.030698   -1000.0  30.697674\n",
       "SM        9.230000     9.510000 -0.029885    1000.0 -29.884902\n",
       "RES       5.780000     5.940000 -0.027305   -1000.0  27.305424\n",
       "OC       58.099998    59.500000 -0.023811    1000.0 -23.810675\n",
       "MMM     173.979996   178.130005 -0.023573   -1000.0  23.573323\n",
       "WLL      15.980000    16.320000 -0.021053    1000.0 -21.053419\n",
       "CDEV      5.690000     5.810000 -0.020870    1000.0 -20.870303\n",
       "ITW     155.630005   158.639999 -0.019156    1000.0 -19.156054\n",
       "VRTX    166.830002   169.559998 -0.016231    1000.0 -16.231491\n",
       "CVX     123.720001   125.629997 -0.015320   -1000.0  15.320099\n",
       "RTN     189.789993   192.630005 -0.014853    1000.0 -14.853113\n",
       "TSCO    109.949997   111.470001 -0.013730    1000.0 -13.729818\n",
       "INTC     51.590000    52.160000 -0.010988    1000.0 -10.988056\n",
       "BA      345.000000   348.089996 -0.008917   -1000.0   8.916639\n",
       "WDC      56.500000    56.970001 -0.008284   -1000.0   8.284197\n",
       "HAL      23.030001    23.219999 -0.008216    1000.0  -8.216203\n",
       "VFC      88.610001    89.339996 -0.008205    1000.0  -8.204550\n",
       "CSX      68.959999    69.500000 -0.007800   -1000.0   7.800139\n",
       "VST      21.750000    21.920000 -0.007786    1000.0  -7.785708\n",
       "VTR      67.029999    67.489998 -0.006839    1000.0  -6.839145\n",
       "PE       16.110001    16.219999 -0.006805   -1000.0   6.804771\n",
       "DHR     142.279999   143.210007 -0.006515   -1000.0   6.515193\n",
       "DPZ     259.059998   260.670013 -0.006196    1000.0  -6.195605\n",
       "TOL      35.520000    35.740002 -0.006175    1000.0  -6.174626\n",
       "X        15.190000    15.280000 -0.005907   -1000.0   5.907477\n",
       "COP      58.750000    59.040001 -0.004924    1000.0  -4.924043\n",
       "FB      199.750000   200.710007 -0.004795    1000.0  -4.794529\n",
       "...            ...          ...       ...       ...        ...\n",
       "KR       21.480000    21.139999  0.015955    1000.0  15.955297\n",
       "MNST     65.199997    64.160004  0.016079    1000.0  16.079401\n",
       "FITB     30.040001    29.559999  0.016108   -1000.0 -16.107779\n",
       "ABBV     67.760002    66.660004  0.016367   -1000.0 -16.366954\n",
       "ALK      64.919998    63.860001  0.016463    1000.0  16.462518\n",
       "UNH     252.940002   248.699997  0.016905    1000.0  16.904978\n",
       "CFG      37.680000    37.020000  0.017671   -1000.0 -17.671138\n",
       "USFD     35.619999    34.950001  0.018989   -1000.0 -18.988757\n",
       "DRI     125.959999   123.589996  0.018995    1000.0  18.994783\n",
       "UPS     120.580002   118.250000  0.019512   -1000.0 -19.512421\n",
       "QRTEA    13.960000    13.680000  0.020261   -1000.0 -20.261166\n",
       "ANTM    299.980011   293.950012  0.020306    1000.0  20.306116\n",
       "KMX      91.169998    89.330002  0.020388   -1000.0 -20.388477\n",
       "KO       54.169998    53.070000  0.020515   -1000.0 -20.515425\n",
       "DE      170.389999   166.910004  0.020635    1000.0  20.635157\n",
       "COF      98.080002    95.900002  0.022477   -1000.0 -22.477493\n",
       "FIS     135.610001   132.479996  0.023351    1000.0  23.351465\n",
       "EWBC     49.080002    47.939999  0.023501    1000.0  23.501457\n",
       "SSNC     60.490002    59.049999  0.024094   -1000.0 -24.093560\n",
       "CNC      53.419998    52.130001  0.024445    1000.0  24.444554\n",
       "SIX      52.099998    50.810001  0.025072    1000.0  25.071707\n",
       "TSS     136.610001   133.169998  0.025504   -1000.0 -25.503662\n",
       "HLF      41.520000    40.259998  0.030817   -1000.0 -30.816871\n",
       "NKTR     31.120001    29.990000  0.036987    1000.0  36.986741\n",
       "WY       26.209999    25.070000  0.044469   -1000.0 -44.469082\n",
       "FISV    102.300003    96.360001  0.059819   -1000.0 -59.818519\n",
       "TWTR     41.520000    38.119999  0.085436   -1000.0 -85.436199\n",
       "SBUX     99.110001    90.980003  0.085591    1000.0  85.590612\n",
       "GOOGL  1245.219971  1135.939941  0.091852   -1000.0 -91.851747\n",
       "GOOG   1250.410034  1132.119995  0.099380    1000.0  99.379548\n",
       "\n",
       "[200 rows x 5 columns]"
      ]
     },
     "execution_count": 52,
     "metadata": {},
     "output_type": "execute_result"
    }
   ],
   "source": [
    "new.sort_values('returns')"
   ]
  },
  {
   "cell_type": "code",
   "execution_count": null,
   "metadata": {},
   "outputs": [],
   "source": []
  }
 ],
 "metadata": {
  "kernelspec": {
   "display_name": "Python 3",
   "language": "python",
   "name": "python3"
  },
  "language_info": {
   "codemirror_mode": {
    "name": "ipython",
    "version": 3
   },
   "file_extension": ".py",
   "mimetype": "text/x-python",
   "name": "python",
   "nbconvert_exporter": "python",
   "pygments_lexer": "ipython3",
   "version": "3.7.3"
  }
 },
 "nbformat": 4,
 "nbformat_minor": 2
}
